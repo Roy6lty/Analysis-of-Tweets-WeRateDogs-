{
 "cells": [
  {
   "cell_type": "markdown",
   "id": "eb35d391",
   "metadata": {},
   "source": [
    "# Project: Investigate a Dataset - [Twitter @We_Love_Dogs]\n",
    "\n",
    "\n",
    "\n",
    ">Table of Contents <br>\n",
    ">Introduction<br>\n",
    ">Data Wrangling<br>\n",
    ">Exploratory Data Analysis<br>\n",
    ">Conclusions & Limitations<br>"
   ]
  },
  {
   "cell_type": "markdown",
   "id": "caae7922",
   "metadata": {},
   "source": [
    "## Introduction\n",
    "\n",
    ">The dataset that you will be wrangling (and analyzing and visualizing) is the tweet archive of Twitter user @dog_rates, also known as WeRateDogs. WeRateDogs is a Twitter account that rates people's dogs with a humorous comment about the dog. \n",
    "\n",
    "## Data Set\n",
    "\n",
    "> This Projects involves Several Datasets This data set contains information about 2000 tweets  collected from @WeRateDogs twitter account"
   ]
  },
  {
   "cell_type": "code",
   "execution_count": 1,
   "id": "aa78174f",
   "metadata": {},
   "outputs": [],
   "source": [
    "from bs4 import BeautifulSoup\n",
    "import csv\n",
    "import requests\n",
    "import json\n",
    "import re\n",
    "import os\n",
    "from os.path import exists\n",
    "import pathlib\n",
    "import pandas as pd\n",
    "from configparser import ConfigParser\n",
    "import tweepy\n",
    "import seaborn as sns\n",
    "from scipy import stats\n",
    "import statsmodels.graphics.api as smg\n",
    "import statsmodels.api as sm\n",
    "from matplotlib import pyplot as plt\n",
    "import numpy as np\n",
    "from timeit import default_timer as timer\n",
    "from tweepy import OAuthHandler\n",
    "%matplotlib inline"
   ]
  },
  {
   "cell_type": "markdown",
   "id": "aad1e601",
   "metadata": {},
   "source": [
    "# Data Wrangling\n",
    "\n",
    "> The data for this project  will be gathered from different sources, which are the Twitter Api and udacity website. The data consist of three diffrent datasets called, `df_twitter` table , `df_dog_image` table and `df_dog` table. Each dataset contains different data which are related to each other "
   ]
  },
  {
   "cell_type": "code",
   "execution_count": 2,
   "id": "55ad97d1",
   "metadata": {},
   "outputs": [],
   "source": [
    "#creating a config object\n",
    "config = ConfigParser()"
   ]
  },
  {
   "cell_type": "code",
   "execution_count": 3,
   "id": "5a9437a9",
   "metadata": {},
   "outputs": [
    {
     "data": {
      "text/plain": [
       "['C:\\\\Users\\\\hp\\\\Documents\\\\twitter_keys.ini']"
      ]
     },
     "execution_count": 3,
     "metadata": {},
     "output_type": "execute_result"
    }
   ],
   "source": [
    "#Reading the config file\n",
    "config.read(\"C:\\\\Users\\\\hp\\\\Documents\\\\twitter_keys.ini\")"
   ]
  },
  {
   "cell_type": "code",
   "execution_count": 4,
   "id": "dbc899a8",
   "metadata": {},
   "outputs": [
    {
     "data": {
      "text/plain": [
       "['Twitter_keys']"
      ]
     },
     "execution_count": 4,
     "metadata": {},
     "output_type": "execute_result"
    }
   ],
   "source": [
    "#Accessing elements\n",
    "config.sections()"
   ]
  },
  {
   "cell_type": "code",
   "execution_count": 5,
   "id": "e46c6eea",
   "metadata": {},
   "outputs": [
    {
     "data": {
      "text/plain": [
       "['consumer_key',\n",
       " 'consumer_secret',\n",
       " 'bearer_token',\n",
       " 'access_token',\n",
       " 'access_token_secret']"
      ]
     },
     "execution_count": 5,
     "metadata": {},
     "output_type": "execute_result"
    }
   ],
   "source": [
    "list(config['Twitter_keys'])"
   ]
  },
  {
   "cell_type": "code",
   "execution_count": 6,
   "id": "37a7bc9a",
   "metadata": {},
   "outputs": [],
   "source": [
    "# Authentication\n",
    "auth = OAuthHandler(\n",
    "    config['Twitter_keys']['consumer_key'],\n",
    "                     config['Twitter_keys']['consumer_secret'])\n",
    "\n",
    "auth.set_access_token(\n",
    "    config['Twitter_keys']['access_token'],\n",
    "                     config['Twitter_keys']['access_token_secret'])\n",
    "\n",
    "api = tweepy.API(auth, wait_on_rate_limit=True)\n"
   ]
  },
  {
   "cell_type": "code",
   "execution_count": 9,
   "id": "b3a00eb4",
   "metadata": {},
   "outputs": [],
   "source": [
    "os.chdir(\"C:\\\\Users\\\\hp\\\\zzNoteBook\\\\Udacity_project\")"
   ]
  },
  {
   "cell_type": "code",
   "execution_count": 10,
   "id": "febcb5ee",
   "metadata": {},
   "outputs": [],
   "source": [
    "a = os.getcwd()\n",
    "\n",
    "if os.path.exists(a + '\\\\tweeter'):\n",
    "     pass\n",
    "else:\n",
    "    os.mkdir('tweeter')\n",
    "\n",
    "os.chdir(a  + '\\\\tweeter')\n"
   ]
  },
  {
   "cell_type": "code",
   "execution_count": 45,
   "id": "1199ceee",
   "metadata": {},
   "outputs": [],
   "source": [
    "url ='https://d17h27t6h515a5.cloudfront.net/topher/2017/August/59a4e958_twitter-archive-enhanced/twitter-archive-enhanced.csv'\n",
    "\n",
    "#saving The Csv file to the tweeter Folder\n",
    "response = requests.get(url)\n",
    "#save csv to file\n",
    "with open(\"twitter_archive.csv\", 'wb') as file:\n",
    "    file.write(response.content)\n",
    "    \n"
   ]
  },
  {
   "cell_type": "code",
   "execution_count": 142,
   "id": "8e0ffb2f",
   "metadata": {},
   "outputs": [],
   "source": [
    "df_dog = pd.read_csv('twitter_archive.csv')"
   ]
  },
  {
   "cell_type": "code",
   "execution_count": 41,
   "id": "a34bd077",
   "metadata": {},
   "outputs": [
    {
     "data": {
      "text/html": [
       "<div>\n",
       "<style scoped>\n",
       "    .dataframe tbody tr th:only-of-type {\n",
       "        vertical-align: middle;\n",
       "    }\n",
       "\n",
       "    .dataframe tbody tr th {\n",
       "        vertical-align: top;\n",
       "    }\n",
       "\n",
       "    .dataframe thead th {\n",
       "        text-align: right;\n",
       "    }\n",
       "</style>\n",
       "<table border=\"1\" class=\"dataframe\">\n",
       "  <thead>\n",
       "    <tr style=\"text-align: right;\">\n",
       "      <th></th>\n",
       "      <th>tweet_id</th>\n",
       "      <th>in_reply_to_status_id</th>\n",
       "      <th>in_reply_to_user_id</th>\n",
       "      <th>timestamp</th>\n",
       "      <th>source</th>\n",
       "      <th>text</th>\n",
       "      <th>retweeted_status_id</th>\n",
       "      <th>retweeted_status_user_id</th>\n",
       "      <th>retweeted_status_timestamp</th>\n",
       "      <th>expanded_urls</th>\n",
       "      <th>rating_numerator</th>\n",
       "      <th>rating_denominator</th>\n",
       "      <th>name</th>\n",
       "      <th>doggo</th>\n",
       "      <th>floofer</th>\n",
       "      <th>pupper</th>\n",
       "      <th>puppo</th>\n",
       "    </tr>\n",
       "  </thead>\n",
       "  <tbody>\n",
       "    <tr>\n",
       "      <th>30</th>\n",
       "      <td>886267009285017600</td>\n",
       "      <td>8.862664e+17</td>\n",
       "      <td>2.281182e+09</td>\n",
       "      <td>2017-07-15 16:51:35 +0000</td>\n",
       "      <td>&lt;a href=\"http://twitter.com/download/iphone\" r...</td>\n",
       "      <td>@NonWhiteHat @MayhewMayhem omg hello tanner yo...</td>\n",
       "      <td>NaN</td>\n",
       "      <td>NaN</td>\n",
       "      <td>NaN</td>\n",
       "      <td>NaN</td>\n",
       "      <td>12</td>\n",
       "      <td>10</td>\n",
       "      <td>None</td>\n",
       "      <td>None</td>\n",
       "      <td>None</td>\n",
       "      <td>None</td>\n",
       "      <td>None</td>\n",
       "    </tr>\n",
       "    <tr>\n",
       "      <th>55</th>\n",
       "      <td>881633300179243008</td>\n",
       "      <td>8.816070e+17</td>\n",
       "      <td>4.738443e+07</td>\n",
       "      <td>2017-07-02 21:58:53 +0000</td>\n",
       "      <td>&lt;a href=\"http://twitter.com/download/iphone\" r...</td>\n",
       "      <td>@roushfenway These are good dogs but 17/10 is ...</td>\n",
       "      <td>NaN</td>\n",
       "      <td>NaN</td>\n",
       "      <td>NaN</td>\n",
       "      <td>NaN</td>\n",
       "      <td>17</td>\n",
       "      <td>10</td>\n",
       "      <td>None</td>\n",
       "      <td>None</td>\n",
       "      <td>None</td>\n",
       "      <td>None</td>\n",
       "      <td>None</td>\n",
       "    </tr>\n",
       "    <tr>\n",
       "      <th>64</th>\n",
       "      <td>879674319642796034</td>\n",
       "      <td>8.795538e+17</td>\n",
       "      <td>3.105441e+09</td>\n",
       "      <td>2017-06-27 12:14:36 +0000</td>\n",
       "      <td>&lt;a href=\"http://twitter.com/download/iphone\" r...</td>\n",
       "      <td>@RealKentMurphy 14/10 confirmed</td>\n",
       "      <td>NaN</td>\n",
       "      <td>NaN</td>\n",
       "      <td>NaN</td>\n",
       "      <td>NaN</td>\n",
       "      <td>14</td>\n",
       "      <td>10</td>\n",
       "      <td>None</td>\n",
       "      <td>None</td>\n",
       "      <td>None</td>\n",
       "      <td>None</td>\n",
       "      <td>None</td>\n",
       "    </tr>\n",
       "    <tr>\n",
       "      <th>113</th>\n",
       "      <td>870726314365509632</td>\n",
       "      <td>8.707262e+17</td>\n",
       "      <td>1.648776e+07</td>\n",
       "      <td>2017-06-02 19:38:25 +0000</td>\n",
       "      <td>&lt;a href=\"http://twitter.com/download/iphone\" r...</td>\n",
       "      <td>@ComplicitOwl @ShopWeRateDogs &amp;gt;10/10 is res...</td>\n",
       "      <td>NaN</td>\n",
       "      <td>NaN</td>\n",
       "      <td>NaN</td>\n",
       "      <td>NaN</td>\n",
       "      <td>10</td>\n",
       "      <td>10</td>\n",
       "      <td>None</td>\n",
       "      <td>None</td>\n",
       "      <td>None</td>\n",
       "      <td>None</td>\n",
       "      <td>None</td>\n",
       "    </tr>\n",
       "    <tr>\n",
       "      <th>148</th>\n",
       "      <td>863427515083354112</td>\n",
       "      <td>8.634256e+17</td>\n",
       "      <td>7.759620e+07</td>\n",
       "      <td>2017-05-13 16:15:35 +0000</td>\n",
       "      <td>&lt;a href=\"http://twitter.com/download/iphone\" r...</td>\n",
       "      <td>@Jack_Septic_Eye I'd need a few more pics to p...</td>\n",
       "      <td>NaN</td>\n",
       "      <td>NaN</td>\n",
       "      <td>NaN</td>\n",
       "      <td>NaN</td>\n",
       "      <td>12</td>\n",
       "      <td>10</td>\n",
       "      <td>None</td>\n",
       "      <td>None</td>\n",
       "      <td>None</td>\n",
       "      <td>None</td>\n",
       "      <td>None</td>\n",
       "    </tr>\n",
       "    <tr>\n",
       "      <th>...</th>\n",
       "      <td>...</td>\n",
       "      <td>...</td>\n",
       "      <td>...</td>\n",
       "      <td>...</td>\n",
       "      <td>...</td>\n",
       "      <td>...</td>\n",
       "      <td>...</td>\n",
       "      <td>...</td>\n",
       "      <td>...</td>\n",
       "      <td>...</td>\n",
       "      <td>...</td>\n",
       "      <td>...</td>\n",
       "      <td>...</td>\n",
       "      <td>...</td>\n",
       "      <td>...</td>\n",
       "      <td>...</td>\n",
       "      <td>...</td>\n",
       "    </tr>\n",
       "    <tr>\n",
       "      <th>2038</th>\n",
       "      <td>671550332464455680</td>\n",
       "      <td>6.715449e+17</td>\n",
       "      <td>4.196984e+09</td>\n",
       "      <td>2015-12-01 04:44:10 +0000</td>\n",
       "      <td>&lt;a href=\"http://twitter.com/download/iphone\" r...</td>\n",
       "      <td>After 22 minutes of careful deliberation this ...</td>\n",
       "      <td>NaN</td>\n",
       "      <td>NaN</td>\n",
       "      <td>NaN</td>\n",
       "      <td>NaN</td>\n",
       "      <td>1</td>\n",
       "      <td>10</td>\n",
       "      <td>None</td>\n",
       "      <td>None</td>\n",
       "      <td>None</td>\n",
       "      <td>None</td>\n",
       "      <td>None</td>\n",
       "    </tr>\n",
       "    <tr>\n",
       "      <th>2149</th>\n",
       "      <td>669684865554620416</td>\n",
       "      <td>6.693544e+17</td>\n",
       "      <td>4.196984e+09</td>\n",
       "      <td>2015-11-26 01:11:28 +0000</td>\n",
       "      <td>&lt;a href=\"http://twitter.com/download/iphone\" r...</td>\n",
       "      <td>After countless hours of research and hundreds...</td>\n",
       "      <td>NaN</td>\n",
       "      <td>NaN</td>\n",
       "      <td>NaN</td>\n",
       "      <td>NaN</td>\n",
       "      <td>11</td>\n",
       "      <td>10</td>\n",
       "      <td>None</td>\n",
       "      <td>None</td>\n",
       "      <td>None</td>\n",
       "      <td>None</td>\n",
       "      <td>None</td>\n",
       "    </tr>\n",
       "    <tr>\n",
       "      <th>2169</th>\n",
       "      <td>669353438988365824</td>\n",
       "      <td>6.678065e+17</td>\n",
       "      <td>4.196984e+09</td>\n",
       "      <td>2015-11-25 03:14:30 +0000</td>\n",
       "      <td>&lt;a href=\"http://twitter.com/download/iphone\" r...</td>\n",
       "      <td>This is Tessa. She is also very pleased after ...</td>\n",
       "      <td>NaN</td>\n",
       "      <td>NaN</td>\n",
       "      <td>NaN</td>\n",
       "      <td>https://twitter.com/dog_rates/status/669353438...</td>\n",
       "      <td>10</td>\n",
       "      <td>10</td>\n",
       "      <td>Tessa</td>\n",
       "      <td>None</td>\n",
       "      <td>None</td>\n",
       "      <td>None</td>\n",
       "      <td>None</td>\n",
       "    </tr>\n",
       "    <tr>\n",
       "      <th>2189</th>\n",
       "      <td>668967877119254528</td>\n",
       "      <td>6.689207e+17</td>\n",
       "      <td>2.143566e+07</td>\n",
       "      <td>2015-11-24 01:42:25 +0000</td>\n",
       "      <td>&lt;a href=\"http://twitter.com/download/iphone\" r...</td>\n",
       "      <td>12/10 good shit Bubka\\n@wane15</td>\n",
       "      <td>NaN</td>\n",
       "      <td>NaN</td>\n",
       "      <td>NaN</td>\n",
       "      <td>NaN</td>\n",
       "      <td>12</td>\n",
       "      <td>10</td>\n",
       "      <td>None</td>\n",
       "      <td>None</td>\n",
       "      <td>None</td>\n",
       "      <td>None</td>\n",
       "      <td>None</td>\n",
       "    </tr>\n",
       "    <tr>\n",
       "      <th>2298</th>\n",
       "      <td>667070482143944705</td>\n",
       "      <td>6.670655e+17</td>\n",
       "      <td>4.196984e+09</td>\n",
       "      <td>2015-11-18 20:02:51 +0000</td>\n",
       "      <td>&lt;a href=\"http://twitter.com/download/iphone\" r...</td>\n",
       "      <td>After much debate this dog is being upgraded t...</td>\n",
       "      <td>NaN</td>\n",
       "      <td>NaN</td>\n",
       "      <td>NaN</td>\n",
       "      <td>NaN</td>\n",
       "      <td>10</td>\n",
       "      <td>10</td>\n",
       "      <td>None</td>\n",
       "      <td>None</td>\n",
       "      <td>None</td>\n",
       "      <td>None</td>\n",
       "      <td>None</td>\n",
       "    </tr>\n",
       "  </tbody>\n",
       "</table>\n",
       "<p>78 rows × 17 columns</p>\n",
       "</div>"
      ],
      "text/plain": [
       "                tweet_id  in_reply_to_status_id  in_reply_to_user_id  \\\n",
       "30    886267009285017600           8.862664e+17         2.281182e+09   \n",
       "55    881633300179243008           8.816070e+17         4.738443e+07   \n",
       "64    879674319642796034           8.795538e+17         3.105441e+09   \n",
       "113   870726314365509632           8.707262e+17         1.648776e+07   \n",
       "148   863427515083354112           8.634256e+17         7.759620e+07   \n",
       "...                  ...                    ...                  ...   \n",
       "2038  671550332464455680           6.715449e+17         4.196984e+09   \n",
       "2149  669684865554620416           6.693544e+17         4.196984e+09   \n",
       "2169  669353438988365824           6.678065e+17         4.196984e+09   \n",
       "2189  668967877119254528           6.689207e+17         2.143566e+07   \n",
       "2298  667070482143944705           6.670655e+17         4.196984e+09   \n",
       "\n",
       "                      timestamp  \\\n",
       "30    2017-07-15 16:51:35 +0000   \n",
       "55    2017-07-02 21:58:53 +0000   \n",
       "64    2017-06-27 12:14:36 +0000   \n",
       "113   2017-06-02 19:38:25 +0000   \n",
       "148   2017-05-13 16:15:35 +0000   \n",
       "...                         ...   \n",
       "2038  2015-12-01 04:44:10 +0000   \n",
       "2149  2015-11-26 01:11:28 +0000   \n",
       "2169  2015-11-25 03:14:30 +0000   \n",
       "2189  2015-11-24 01:42:25 +0000   \n",
       "2298  2015-11-18 20:02:51 +0000   \n",
       "\n",
       "                                                 source  \\\n",
       "30    <a href=\"http://twitter.com/download/iphone\" r...   \n",
       "55    <a href=\"http://twitter.com/download/iphone\" r...   \n",
       "64    <a href=\"http://twitter.com/download/iphone\" r...   \n",
       "113   <a href=\"http://twitter.com/download/iphone\" r...   \n",
       "148   <a href=\"http://twitter.com/download/iphone\" r...   \n",
       "...                                                 ...   \n",
       "2038  <a href=\"http://twitter.com/download/iphone\" r...   \n",
       "2149  <a href=\"http://twitter.com/download/iphone\" r...   \n",
       "2169  <a href=\"http://twitter.com/download/iphone\" r...   \n",
       "2189  <a href=\"http://twitter.com/download/iphone\" r...   \n",
       "2298  <a href=\"http://twitter.com/download/iphone\" r...   \n",
       "\n",
       "                                                   text  retweeted_status_id  \\\n",
       "30    @NonWhiteHat @MayhewMayhem omg hello tanner yo...                  NaN   \n",
       "55    @roushfenway These are good dogs but 17/10 is ...                  NaN   \n",
       "64                      @RealKentMurphy 14/10 confirmed                  NaN   \n",
       "113   @ComplicitOwl @ShopWeRateDogs &gt;10/10 is res...                  NaN   \n",
       "148   @Jack_Septic_Eye I'd need a few more pics to p...                  NaN   \n",
       "...                                                 ...                  ...   \n",
       "2038  After 22 minutes of careful deliberation this ...                  NaN   \n",
       "2149  After countless hours of research and hundreds...                  NaN   \n",
       "2169  This is Tessa. She is also very pleased after ...                  NaN   \n",
       "2189                     12/10 good shit Bubka\\n@wane15                  NaN   \n",
       "2298  After much debate this dog is being upgraded t...                  NaN   \n",
       "\n",
       "      retweeted_status_user_id retweeted_status_timestamp  \\\n",
       "30                         NaN                        NaN   \n",
       "55                         NaN                        NaN   \n",
       "64                         NaN                        NaN   \n",
       "113                        NaN                        NaN   \n",
       "148                        NaN                        NaN   \n",
       "...                        ...                        ...   \n",
       "2038                       NaN                        NaN   \n",
       "2149                       NaN                        NaN   \n",
       "2169                       NaN                        NaN   \n",
       "2189                       NaN                        NaN   \n",
       "2298                       NaN                        NaN   \n",
       "\n",
       "                                          expanded_urls  rating_numerator  \\\n",
       "30                                                  NaN                12   \n",
       "55                                                  NaN                17   \n",
       "64                                                  NaN                14   \n",
       "113                                                 NaN                10   \n",
       "148                                                 NaN                12   \n",
       "...                                                 ...               ...   \n",
       "2038                                                NaN                 1   \n",
       "2149                                                NaN                11   \n",
       "2169  https://twitter.com/dog_rates/status/669353438...                10   \n",
       "2189                                                NaN                12   \n",
       "2298                                                NaN                10   \n",
       "\n",
       "      rating_denominator   name doggo floofer pupper puppo  \n",
       "30                    10   None  None    None   None  None  \n",
       "55                    10   None  None    None   None  None  \n",
       "64                    10   None  None    None   None  None  \n",
       "113                   10   None  None    None   None  None  \n",
       "148                   10   None  None    None   None  None  \n",
       "...                  ...    ...   ...     ...    ...   ...  \n",
       "2038                  10   None  None    None   None  None  \n",
       "2149                  10   None  None    None   None  None  \n",
       "2169                  10  Tessa  None    None   None  None  \n",
       "2189                  10   None  None    None   None  None  \n",
       "2298                  10   None  None    None   None  None  \n",
       "\n",
       "[78 rows x 17 columns]"
      ]
     },
     "execution_count": 41,
     "metadata": {},
     "output_type": "execute_result"
    }
   ],
   "source": [
    "a = df_dog.in_reply_to_status_id.isnull()\n",
    "df_dog[~a]"
   ]
  },
  {
   "cell_type": "code",
   "execution_count": 143,
   "id": "283be943",
   "metadata": {},
   "outputs": [
    {
     "data": {
      "text/html": [
       "<div>\n",
       "<style scoped>\n",
       "    .dataframe tbody tr th:only-of-type {\n",
       "        vertical-align: middle;\n",
       "    }\n",
       "\n",
       "    .dataframe tbody tr th {\n",
       "        vertical-align: top;\n",
       "    }\n",
       "\n",
       "    .dataframe thead th {\n",
       "        text-align: right;\n",
       "    }\n",
       "</style>\n",
       "<table border=\"1\" class=\"dataframe\">\n",
       "  <thead>\n",
       "    <tr style=\"text-align: right;\">\n",
       "      <th></th>\n",
       "      <th>tweet_id</th>\n",
       "      <th>in_reply_to_status_id</th>\n",
       "      <th>in_reply_to_user_id</th>\n",
       "      <th>timestamp</th>\n",
       "      <th>source</th>\n",
       "      <th>text</th>\n",
       "      <th>retweeted_status_id</th>\n",
       "      <th>retweeted_status_user_id</th>\n",
       "      <th>retweeted_status_timestamp</th>\n",
       "      <th>expanded_urls</th>\n",
       "      <th>rating_numerator</th>\n",
       "      <th>rating_denominator</th>\n",
       "      <th>name</th>\n",
       "      <th>doggo</th>\n",
       "      <th>floofer</th>\n",
       "      <th>pupper</th>\n",
       "      <th>puppo</th>\n",
       "    </tr>\n",
       "  </thead>\n",
       "  <tbody>\n",
       "    <tr>\n",
       "      <th>1241</th>\n",
       "      <td>712065007010385924</td>\n",
       "      <td>NaN</td>\n",
       "      <td>NaN</td>\n",
       "      <td>2016-03-21 23:55:01 +0000</td>\n",
       "      <td>&lt;a href=\"http://twitter.com/download/iphone\" r...</td>\n",
       "      <td>This is Chester. He's clearly in charge of the...</td>\n",
       "      <td>NaN</td>\n",
       "      <td>NaN</td>\n",
       "      <td>NaN</td>\n",
       "      <td>https://twitter.com/dog_rates/status/712065007...</td>\n",
       "      <td>6</td>\n",
       "      <td>10</td>\n",
       "      <td>Chester</td>\n",
       "      <td>None</td>\n",
       "      <td>None</td>\n",
       "      <td>None</td>\n",
       "      <td>None</td>\n",
       "    </tr>\n",
       "    <tr>\n",
       "      <th>423</th>\n",
       "      <td>821765923262631936</td>\n",
       "      <td>NaN</td>\n",
       "      <td>NaN</td>\n",
       "      <td>2017-01-18 17:07:18 +0000</td>\n",
       "      <td>&lt;a href=\"http://twitter.com/download/iphone\" r...</td>\n",
       "      <td>This is Duchess. She uses dark doggo forces to...</td>\n",
       "      <td>NaN</td>\n",
       "      <td>NaN</td>\n",
       "      <td>NaN</td>\n",
       "      <td>https://twitter.com/dog_rates/status/821765923...</td>\n",
       "      <td>13</td>\n",
       "      <td>10</td>\n",
       "      <td>Duchess</td>\n",
       "      <td>doggo</td>\n",
       "      <td>None</td>\n",
       "      <td>None</td>\n",
       "      <td>None</td>\n",
       "    </tr>\n",
       "    <tr>\n",
       "      <th>2342</th>\n",
       "      <td>666082916733198337</td>\n",
       "      <td>NaN</td>\n",
       "      <td>NaN</td>\n",
       "      <td>2015-11-16 02:38:37 +0000</td>\n",
       "      <td>&lt;a href=\"http://twitter.com/download/iphone\" r...</td>\n",
       "      <td>Here we have a well-established sunblockerspan...</td>\n",
       "      <td>NaN</td>\n",
       "      <td>NaN</td>\n",
       "      <td>NaN</td>\n",
       "      <td>https://twitter.com/dog_rates/status/666082916...</td>\n",
       "      <td>6</td>\n",
       "      <td>10</td>\n",
       "      <td>None</td>\n",
       "      <td>None</td>\n",
       "      <td>None</td>\n",
       "      <td>None</td>\n",
       "      <td>None</td>\n",
       "    </tr>\n",
       "    <tr>\n",
       "      <th>1808</th>\n",
       "      <td>676897532954456065</td>\n",
       "      <td>NaN</td>\n",
       "      <td>NaN</td>\n",
       "      <td>2015-12-15 22:52:02 +0000</td>\n",
       "      <td>&lt;a href=\"http://twitter.com/download/iphone\" r...</td>\n",
       "      <td>Exotic handheld dog here. Appears unathletic. ...</td>\n",
       "      <td>NaN</td>\n",
       "      <td>NaN</td>\n",
       "      <td>NaN</td>\n",
       "      <td>https://twitter.com/dog_rates/status/676897532...</td>\n",
       "      <td>5</td>\n",
       "      <td>10</td>\n",
       "      <td>None</td>\n",
       "      <td>None</td>\n",
       "      <td>None</td>\n",
       "      <td>None</td>\n",
       "      <td>None</td>\n",
       "    </tr>\n",
       "    <tr>\n",
       "      <th>984</th>\n",
       "      <td>749317047558017024</td>\n",
       "      <td>NaN</td>\n",
       "      <td>NaN</td>\n",
       "      <td>2016-07-02 19:01:20 +0000</td>\n",
       "      <td>&lt;a href=\"http://twitter.com/download/iphone\" r...</td>\n",
       "      <td>This is Blu. He's a wild bush Floofer. I wish ...</td>\n",
       "      <td>NaN</td>\n",
       "      <td>NaN</td>\n",
       "      <td>NaN</td>\n",
       "      <td>https://twitter.com/dog_rates/status/749317047...</td>\n",
       "      <td>12</td>\n",
       "      <td>10</td>\n",
       "      <td>Blu</td>\n",
       "      <td>None</td>\n",
       "      <td>floofer</td>\n",
       "      <td>None</td>\n",
       "      <td>None</td>\n",
       "    </tr>\n",
       "  </tbody>\n",
       "</table>\n",
       "</div>"
      ],
      "text/plain": [
       "                tweet_id  in_reply_to_status_id  in_reply_to_user_id  \\\n",
       "1241  712065007010385924                    NaN                  NaN   \n",
       "423   821765923262631936                    NaN                  NaN   \n",
       "2342  666082916733198337                    NaN                  NaN   \n",
       "1808  676897532954456065                    NaN                  NaN   \n",
       "984   749317047558017024                    NaN                  NaN   \n",
       "\n",
       "                      timestamp  \\\n",
       "1241  2016-03-21 23:55:01 +0000   \n",
       "423   2017-01-18 17:07:18 +0000   \n",
       "2342  2015-11-16 02:38:37 +0000   \n",
       "1808  2015-12-15 22:52:02 +0000   \n",
       "984   2016-07-02 19:01:20 +0000   \n",
       "\n",
       "                                                 source  \\\n",
       "1241  <a href=\"http://twitter.com/download/iphone\" r...   \n",
       "423   <a href=\"http://twitter.com/download/iphone\" r...   \n",
       "2342  <a href=\"http://twitter.com/download/iphone\" r...   \n",
       "1808  <a href=\"http://twitter.com/download/iphone\" r...   \n",
       "984   <a href=\"http://twitter.com/download/iphone\" r...   \n",
       "\n",
       "                                                   text  retweeted_status_id  \\\n",
       "1241  This is Chester. He's clearly in charge of the...                  NaN   \n",
       "423   This is Duchess. She uses dark doggo forces to...                  NaN   \n",
       "2342  Here we have a well-established sunblockerspan...                  NaN   \n",
       "1808  Exotic handheld dog here. Appears unathletic. ...                  NaN   \n",
       "984   This is Blu. He's a wild bush Floofer. I wish ...                  NaN   \n",
       "\n",
       "      retweeted_status_user_id retweeted_status_timestamp  \\\n",
       "1241                       NaN                        NaN   \n",
       "423                        NaN                        NaN   \n",
       "2342                       NaN                        NaN   \n",
       "1808                       NaN                        NaN   \n",
       "984                        NaN                        NaN   \n",
       "\n",
       "                                          expanded_urls  rating_numerator  \\\n",
       "1241  https://twitter.com/dog_rates/status/712065007...                 6   \n",
       "423   https://twitter.com/dog_rates/status/821765923...                13   \n",
       "2342  https://twitter.com/dog_rates/status/666082916...                 6   \n",
       "1808  https://twitter.com/dog_rates/status/676897532...                 5   \n",
       "984   https://twitter.com/dog_rates/status/749317047...                12   \n",
       "\n",
       "      rating_denominator     name  doggo  floofer pupper puppo  \n",
       "1241                  10  Chester   None     None   None  None  \n",
       "423                   10  Duchess  doggo     None   None  None  \n",
       "2342                  10     None   None     None   None  None  \n",
       "1808                  10     None   None     None   None  None  \n",
       "984                   10      Blu   None  floofer   None  None  "
      ]
     },
     "execution_count": 143,
     "metadata": {},
     "output_type": "execute_result"
    }
   ],
   "source": [
    "df_dog.sample(5)"
   ]
  },
  {
   "cell_type": "code",
   "execution_count": 42,
   "id": "6c4e7909",
   "metadata": {},
   "outputs": [
    {
     "data": {
      "text/plain": [
       "'<a href=\"http://twitter.com/download/iphone\" rel=\"nofollow\">Twitter for iPhone</a>'"
      ]
     },
     "execution_count": 42,
     "metadata": {},
     "output_type": "execute_result"
    }
   ],
   "source": [
    "df_dog.iloc[3].source"
   ]
  },
  {
   "cell_type": "code",
   "execution_count": 49,
   "id": "67568f8c",
   "metadata": {},
   "outputs": [
    {
     "name": "stdout",
     "output_type": "stream",
     "text": [
      "<class 'pandas.core.frame.DataFrame'>\n",
      "RangeIndex: 2356 entries, 0 to 2355\n",
      "Data columns (total 17 columns):\n",
      " #   Column                      Non-Null Count  Dtype  \n",
      "---  ------                      --------------  -----  \n",
      " 0   tweet_id                    2356 non-null   int64  \n",
      " 1   in_reply_to_status_id       78 non-null     float64\n",
      " 2   in_reply_to_user_id         78 non-null     float64\n",
      " 3   timestamp                   2356 non-null   object \n",
      " 4   source                      2356 non-null   object \n",
      " 5   text                        2356 non-null   object \n",
      " 6   retweeted_status_id         181 non-null    float64\n",
      " 7   retweeted_status_user_id    181 non-null    float64\n",
      " 8   retweeted_status_timestamp  181 non-null    object \n",
      " 9   expanded_urls               2297 non-null   object \n",
      " 10  rating_numerator            2356 non-null   int64  \n",
      " 11  rating_denominator          2356 non-null   int64  \n",
      " 12  name                        2356 non-null   object \n",
      " 13  doggo                       2356 non-null   object \n",
      " 14  floofer                     2356 non-null   object \n",
      " 15  pupper                      2356 non-null   object \n",
      " 16  puppo                       2356 non-null   object \n",
      "dtypes: float64(4), int64(3), object(10)\n",
      "memory usage: 313.0+ KB\n"
     ]
    }
   ],
   "source": [
    "df_dog.info()"
   ]
  },
  {
   "cell_type": "code",
   "execution_count": 36,
   "id": "77411c69",
   "metadata": {},
   "outputs": [
    {
     "data": {
      "text/plain": [
       "None          745\n",
       "a              55\n",
       "Charlie        12\n",
       "Cooper         11\n",
       "Lucy           11\n",
       "             ... \n",
       "Dex             1\n",
       "Ace             1\n",
       "Tayzie          1\n",
       "Grizzie         1\n",
       "Christoper      1\n",
       "Name: name, Length: 957, dtype: int64"
      ]
     },
     "execution_count": 36,
     "metadata": {},
     "output_type": "execute_result"
    }
   ],
   "source": [
    "df_dog.name.value_counts()                        "
   ]
  },
  {
   "cell_type": "code",
   "execution_count": 21,
   "id": "e1208b8e",
   "metadata": {},
   "outputs": [
    {
     "data": {
      "text/html": [
       "<div>\n",
       "<style scoped>\n",
       "    .dataframe tbody tr th:only-of-type {\n",
       "        vertical-align: middle;\n",
       "    }\n",
       "\n",
       "    .dataframe tbody tr th {\n",
       "        vertical-align: top;\n",
       "    }\n",
       "\n",
       "    .dataframe thead th {\n",
       "        text-align: right;\n",
       "    }\n",
       "</style>\n",
       "<table border=\"1\" class=\"dataframe\">\n",
       "  <thead>\n",
       "    <tr style=\"text-align: right;\">\n",
       "      <th></th>\n",
       "      <th>tweet_id</th>\n",
       "      <th>in_reply_to_status_id</th>\n",
       "      <th>in_reply_to_user_id</th>\n",
       "      <th>retweeted_status_id</th>\n",
       "      <th>retweeted_status_user_id</th>\n",
       "      <th>rating_numerator</th>\n",
       "      <th>rating_denominator</th>\n",
       "    </tr>\n",
       "  </thead>\n",
       "  <tbody>\n",
       "    <tr>\n",
       "      <th>count</th>\n",
       "      <td>2.356000e+03</td>\n",
       "      <td>7.800000e+01</td>\n",
       "      <td>7.800000e+01</td>\n",
       "      <td>1.810000e+02</td>\n",
       "      <td>1.810000e+02</td>\n",
       "      <td>2356.000000</td>\n",
       "      <td>2356.000000</td>\n",
       "    </tr>\n",
       "    <tr>\n",
       "      <th>mean</th>\n",
       "      <td>7.427716e+17</td>\n",
       "      <td>7.455079e+17</td>\n",
       "      <td>2.014171e+16</td>\n",
       "      <td>7.720400e+17</td>\n",
       "      <td>1.241698e+16</td>\n",
       "      <td>13.126486</td>\n",
       "      <td>10.455433</td>\n",
       "    </tr>\n",
       "    <tr>\n",
       "      <th>std</th>\n",
       "      <td>6.856705e+16</td>\n",
       "      <td>7.582492e+16</td>\n",
       "      <td>1.252797e+17</td>\n",
       "      <td>6.236928e+16</td>\n",
       "      <td>9.599254e+16</td>\n",
       "      <td>45.876648</td>\n",
       "      <td>6.745237</td>\n",
       "    </tr>\n",
       "    <tr>\n",
       "      <th>min</th>\n",
       "      <td>6.660209e+17</td>\n",
       "      <td>6.658147e+17</td>\n",
       "      <td>1.185634e+07</td>\n",
       "      <td>6.661041e+17</td>\n",
       "      <td>7.832140e+05</td>\n",
       "      <td>0.000000</td>\n",
       "      <td>0.000000</td>\n",
       "    </tr>\n",
       "    <tr>\n",
       "      <th>25%</th>\n",
       "      <td>6.783989e+17</td>\n",
       "      <td>6.757419e+17</td>\n",
       "      <td>3.086374e+08</td>\n",
       "      <td>7.186315e+17</td>\n",
       "      <td>4.196984e+09</td>\n",
       "      <td>10.000000</td>\n",
       "      <td>10.000000</td>\n",
       "    </tr>\n",
       "    <tr>\n",
       "      <th>50%</th>\n",
       "      <td>7.196279e+17</td>\n",
       "      <td>7.038708e+17</td>\n",
       "      <td>4.196984e+09</td>\n",
       "      <td>7.804657e+17</td>\n",
       "      <td>4.196984e+09</td>\n",
       "      <td>11.000000</td>\n",
       "      <td>10.000000</td>\n",
       "    </tr>\n",
       "    <tr>\n",
       "      <th>75%</th>\n",
       "      <td>7.993373e+17</td>\n",
       "      <td>8.257804e+17</td>\n",
       "      <td>4.196984e+09</td>\n",
       "      <td>8.203146e+17</td>\n",
       "      <td>4.196984e+09</td>\n",
       "      <td>12.000000</td>\n",
       "      <td>10.000000</td>\n",
       "    </tr>\n",
       "    <tr>\n",
       "      <th>max</th>\n",
       "      <td>8.924206e+17</td>\n",
       "      <td>8.862664e+17</td>\n",
       "      <td>8.405479e+17</td>\n",
       "      <td>8.874740e+17</td>\n",
       "      <td>7.874618e+17</td>\n",
       "      <td>1776.000000</td>\n",
       "      <td>170.000000</td>\n",
       "    </tr>\n",
       "  </tbody>\n",
       "</table>\n",
       "</div>"
      ],
      "text/plain": [
       "           tweet_id  in_reply_to_status_id  in_reply_to_user_id  \\\n",
       "count  2.356000e+03           7.800000e+01         7.800000e+01   \n",
       "mean   7.427716e+17           7.455079e+17         2.014171e+16   \n",
       "std    6.856705e+16           7.582492e+16         1.252797e+17   \n",
       "min    6.660209e+17           6.658147e+17         1.185634e+07   \n",
       "25%    6.783989e+17           6.757419e+17         3.086374e+08   \n",
       "50%    7.196279e+17           7.038708e+17         4.196984e+09   \n",
       "75%    7.993373e+17           8.257804e+17         4.196984e+09   \n",
       "max    8.924206e+17           8.862664e+17         8.405479e+17   \n",
       "\n",
       "       retweeted_status_id  retweeted_status_user_id  rating_numerator  \\\n",
       "count         1.810000e+02              1.810000e+02       2356.000000   \n",
       "mean          7.720400e+17              1.241698e+16         13.126486   \n",
       "std           6.236928e+16              9.599254e+16         45.876648   \n",
       "min           6.661041e+17              7.832140e+05          0.000000   \n",
       "25%           7.186315e+17              4.196984e+09         10.000000   \n",
       "50%           7.804657e+17              4.196984e+09         11.000000   \n",
       "75%           8.203146e+17              4.196984e+09         12.000000   \n",
       "max           8.874740e+17              7.874618e+17       1776.000000   \n",
       "\n",
       "       rating_denominator  \n",
       "count         2356.000000  \n",
       "mean            10.455433  \n",
       "std              6.745237  \n",
       "min              0.000000  \n",
       "25%             10.000000  \n",
       "50%             10.000000  \n",
       "75%             10.000000  \n",
       "max            170.000000  "
      ]
     },
     "execution_count": 21,
     "metadata": {},
     "output_type": "execute_result"
    }
   ],
   "source": [
    "df_dog.describe()"
   ]
  },
  {
   "cell_type": "code",
   "execution_count": 23,
   "id": "abde13d3",
   "metadata": {},
   "outputs": [
    {
     "data": {
      "text/plain": [
       "tweet_id                         0\n",
       "in_reply_to_status_id         2278\n",
       "in_reply_to_user_id           2278\n",
       "timestamp                        0\n",
       "source                           0\n",
       "text                             0\n",
       "retweeted_status_id           2175\n",
       "retweeted_status_user_id      2175\n",
       "retweeted_status_timestamp    2175\n",
       "expanded_urls                   59\n",
       "rating_numerator                 0\n",
       "rating_denominator               0\n",
       "name                             0\n",
       "doggo                            0\n",
       "floofer                          0\n",
       "pupper                           0\n",
       "puppo                            0\n",
       "dtype: int64"
      ]
     },
     "execution_count": 23,
     "metadata": {},
     "output_type": "execute_result"
    }
   ],
   "source": [
    "df_dog.isnull().sum()"
   ]
  },
  {
   "cell_type": "code",
   "execution_count": 24,
   "id": "101898e6",
   "metadata": {},
   "outputs": [
    {
     "data": {
      "text/plain": [
       "0"
      ]
     },
     "execution_count": 24,
     "metadata": {},
     "output_type": "execute_result"
    }
   ],
   "source": [
    "df_dog.duplicated().sum()"
   ]
  },
  {
   "cell_type": "markdown",
   "id": "22c788b0",
   "metadata": {},
   "source": [
    ">The df_dog dataframe contains sevral empty rows of data across the table and no null values"
   ]
  },
  {
   "cell_type": "code",
   "execution_count": 12,
   "id": "67de6cee",
   "metadata": {},
   "outputs": [],
   "source": [
    "tweet_ids = df_dog.tweet_id.values"
   ]
  },
  {
   "cell_type": "code",
   "execution_count": 1,
   "id": "8d3c8617",
   "metadata": {
    "scrolled": false
   },
   "outputs": [],
   "source": [
    "count = 0\n",
    "fails_dict = {}\n",
    "start = timer()\n",
    "# Save each tweet's returned JSON as a new line in a .txt file\n",
    "\n",
    "with open('tweet_json.txt', 'w') as outfile:\n",
    "    # This loop will likely take 20-30 minutes to run because of Twitter's rate limit\n",
    "    for tweet_id in tweet_ids:\n",
    "        count += 1\n",
    "        print(str(count) + \": \" + str(tweet_id))\n",
    "        try:\n",
    "            tweet = api.get_status(tweet_id, tweet_mode='extended')\n",
    "            print(\"Success\")\n",
    "            json.dump(tweet._json, outfile)\n",
    "            outfile.write('\\n')\n",
    "        except tweepy.errors.TweepyException as e:\n",
    "            print(\"Fail\")\n",
    "            fails_dict[tweet_id] = e\n",
    "            pass\n",
    "end = timer()\n",
    "print(end - start)\n",
    "print(fails_dict)"
   ]
  },
  {
   "cell_type": "code",
   "execution_count": 12,
   "id": "9841a48c",
   "metadata": {},
   "outputs": [
    {
     "data": {
      "text/plain": [
       "'C:\\\\Users\\\\hp\\\\zzNoteBook\\\\Udacity_project\\\\tweeter'"
      ]
     },
     "execution_count": 12,
     "metadata": {},
     "output_type": "execute_result"
    }
   ],
   "source": [
    "os.getcwd()"
   ]
  },
  {
   "cell_type": "code",
   "execution_count": 2,
   "id": "a6288889",
   "metadata": {},
   "outputs": [],
   "source": [
    "df_list =[]\n",
    "with open(\"tweet_json.txt\", 'r') as tweet_data:\n",
    "          for line in tweet_data:\n",
    "            data = json.loads(line)\n",
    "            tweet_id= data['id']\n",
    "            created_at = data['created_at']\n",
    "            favourite_count=  data['favorite_count']\n",
    "            retweet_count = data['retweet_count']\n",
    "            \n",
    "            df_list.append({'tweet_id': tweet_id,\n",
    "               'date_created': created_at,\n",
    "                'favourite_count': favourite_count,\n",
    "                'retweet_count' : retweet_count\n",
    "               \n",
    "               })\n",
    "        \n"
   ]
  },
  {
   "cell_type": "code",
   "execution_count": 132,
   "id": "c19c4222",
   "metadata": {},
   "outputs": [],
   "source": [
    "df_twitter =pd.DataFrame(df_list, columns = ['tweet_id', 'date_created','favourite_count', 'retweet_count'])"
   ]
  },
  {
   "cell_type": "code",
   "execution_count": 4,
   "id": "8ac71c93",
   "metadata": {},
   "outputs": [
    {
     "data": {
      "text/plain": [
       "(2354, 4)"
      ]
     },
     "execution_count": 4,
     "metadata": {},
     "output_type": "execute_result"
    }
   ],
   "source": [
    "df_twitter.shape"
   ]
  },
  {
   "cell_type": "code",
   "execution_count": 11,
   "id": "0fcaa285",
   "metadata": {},
   "outputs": [
    {
     "data": {
      "text/html": [
       "<div>\n",
       "<style scoped>\n",
       "    .dataframe tbody tr th:only-of-type {\n",
       "        vertical-align: middle;\n",
       "    }\n",
       "\n",
       "    .dataframe tbody tr th {\n",
       "        vertical-align: top;\n",
       "    }\n",
       "\n",
       "    .dataframe thead th {\n",
       "        text-align: right;\n",
       "    }\n",
       "</style>\n",
       "<table border=\"1\" class=\"dataframe\">\n",
       "  <thead>\n",
       "    <tr style=\"text-align: right;\">\n",
       "      <th></th>\n",
       "      <th>tweet_id</th>\n",
       "      <th>date_created</th>\n",
       "      <th>favourite_count</th>\n",
       "      <th>retweet_count</th>\n",
       "    </tr>\n",
       "  </thead>\n",
       "  <tbody>\n",
       "    <tr>\n",
       "      <th>2116</th>\n",
       "      <td>670420569653809152</td>\n",
       "      <td>Sat Nov 28 01:54:54 +0000 2015</td>\n",
       "      <td>668</td>\n",
       "      <td>342</td>\n",
       "    </tr>\n",
       "    <tr>\n",
       "      <th>1845</th>\n",
       "      <td>675820929667219457</td>\n",
       "      <td>Sat Dec 12 23:34:00 +0000 2015</td>\n",
       "      <td>1140</td>\n",
       "      <td>260</td>\n",
       "    </tr>\n",
       "    <tr>\n",
       "      <th>1520</th>\n",
       "      <td>690649993829576704</td>\n",
       "      <td>Fri Jan 22 21:39:24 +0000 2016</td>\n",
       "      <td>1435</td>\n",
       "      <td>325</td>\n",
       "    </tr>\n",
       "    <tr>\n",
       "      <th>498</th>\n",
       "      <td>813127251579564032</td>\n",
       "      <td>Sun Dec 25 21:00:18 +0000 2016</td>\n",
       "      <td>13242</td>\n",
       "      <td>3652</td>\n",
       "    </tr>\n",
       "    <tr>\n",
       "      <th>551</th>\n",
       "      <td>804413760345620481</td>\n",
       "      <td>Thu Dec 01 19:56:00 +0000 2016</td>\n",
       "      <td>0</td>\n",
       "      <td>3712</td>\n",
       "    </tr>\n",
       "  </tbody>\n",
       "</table>\n",
       "</div>"
      ],
      "text/plain": [
       "                tweet_id                    date_created  favourite_count  \\\n",
       "2116  670420569653809152  Sat Nov 28 01:54:54 +0000 2015              668   \n",
       "1845  675820929667219457  Sat Dec 12 23:34:00 +0000 2015             1140   \n",
       "1520  690649993829576704  Fri Jan 22 21:39:24 +0000 2016             1435   \n",
       "498   813127251579564032  Sun Dec 25 21:00:18 +0000 2016            13242   \n",
       "551   804413760345620481  Thu Dec 01 19:56:00 +0000 2016                0   \n",
       "\n",
       "      retweet_count  \n",
       "2116            342  \n",
       "1845            260  \n",
       "1520            325  \n",
       "498            3652  \n",
       "551            3712  "
      ]
     },
     "execution_count": 11,
     "metadata": {},
     "output_type": "execute_result"
    }
   ],
   "source": [
    "#sampling the dataframe \n",
    "df_twitter.sample(5)"
   ]
  },
  {
   "cell_type": "code",
   "execution_count": 50,
   "id": "11a3d9b8",
   "metadata": {},
   "outputs": [
    {
     "name": "stdout",
     "output_type": "stream",
     "text": [
      "<class 'pandas.core.frame.DataFrame'>\n",
      "RangeIndex: 2354 entries, 0 to 2353\n",
      "Data columns (total 4 columns):\n",
      " #   Column           Non-Null Count  Dtype \n",
      "---  ------           --------------  ----- \n",
      " 0   tweet_id         2354 non-null   int64 \n",
      " 1   date_created     2354 non-null   object\n",
      " 2   favourite_count  2354 non-null   int64 \n",
      " 3   retweet_count    2354 non-null   int64 \n",
      "dtypes: int64(3), object(1)\n",
      "memory usage: 73.7+ KB\n"
     ]
    }
   ],
   "source": [
    "df_twitter.info()"
   ]
  },
  {
   "cell_type": "markdown",
   "id": "6a2939da",
   "metadata": {},
   "source": [
    "> The tweet_id, date_created , favourite_count retweet_count columns are in the right data format"
   ]
  },
  {
   "cell_type": "code",
   "execution_count": 10,
   "id": "0e448eaf",
   "metadata": {},
   "outputs": [
    {
     "data": {
      "text/html": [
       "<div>\n",
       "<style scoped>\n",
       "    .dataframe tbody tr th:only-of-type {\n",
       "        vertical-align: middle;\n",
       "    }\n",
       "\n",
       "    .dataframe tbody tr th {\n",
       "        vertical-align: top;\n",
       "    }\n",
       "\n",
       "    .dataframe thead th {\n",
       "        text-align: right;\n",
       "    }\n",
       "</style>\n",
       "<table border=\"1\" class=\"dataframe\">\n",
       "  <thead>\n",
       "    <tr style=\"text-align: right;\">\n",
       "      <th></th>\n",
       "      <th>tweet_id</th>\n",
       "      <th>favourite_count</th>\n",
       "      <th>retweet_count</th>\n",
       "    </tr>\n",
       "  </thead>\n",
       "  <tbody>\n",
       "    <tr>\n",
       "      <th>count</th>\n",
       "      <td>2.354000e+03</td>\n",
       "      <td>2354.000000</td>\n",
       "      <td>2354.000000</td>\n",
       "    </tr>\n",
       "    <tr>\n",
       "      <th>mean</th>\n",
       "      <td>7.426978e+17</td>\n",
       "      <td>8080.968564</td>\n",
       "      <td>3164.797366</td>\n",
       "    </tr>\n",
       "    <tr>\n",
       "      <th>std</th>\n",
       "      <td>6.852812e+16</td>\n",
       "      <td>11814.771334</td>\n",
       "      <td>5284.770364</td>\n",
       "    </tr>\n",
       "    <tr>\n",
       "      <th>min</th>\n",
       "      <td>6.660209e+17</td>\n",
       "      <td>0.000000</td>\n",
       "      <td>0.000000</td>\n",
       "    </tr>\n",
       "    <tr>\n",
       "      <th>25%</th>\n",
       "      <td>6.783975e+17</td>\n",
       "      <td>1415.000000</td>\n",
       "      <td>624.500000</td>\n",
       "    </tr>\n",
       "    <tr>\n",
       "      <th>50%</th>\n",
       "      <td>7.194596e+17</td>\n",
       "      <td>3603.500000</td>\n",
       "      <td>1473.500000</td>\n",
       "    </tr>\n",
       "    <tr>\n",
       "      <th>75%</th>\n",
       "      <td>7.993058e+17</td>\n",
       "      <td>10122.250000</td>\n",
       "      <td>3652.000000</td>\n",
       "    </tr>\n",
       "    <tr>\n",
       "      <th>max</th>\n",
       "      <td>8.924206e+17</td>\n",
       "      <td>132810.000000</td>\n",
       "      <td>79515.000000</td>\n",
       "    </tr>\n",
       "  </tbody>\n",
       "</table>\n",
       "</div>"
      ],
      "text/plain": [
       "           tweet_id  favourite_count  retweet_count\n",
       "count  2.354000e+03      2354.000000    2354.000000\n",
       "mean   7.426978e+17      8080.968564    3164.797366\n",
       "std    6.852812e+16     11814.771334    5284.770364\n",
       "min    6.660209e+17         0.000000       0.000000\n",
       "25%    6.783975e+17      1415.000000     624.500000\n",
       "50%    7.194596e+17      3603.500000    1473.500000\n",
       "75%    7.993058e+17     10122.250000    3652.000000\n",
       "max    8.924206e+17    132810.000000   79515.000000"
      ]
     },
     "execution_count": 10,
     "metadata": {},
     "output_type": "execute_result"
    }
   ],
   "source": [
    "df_twitter.describe()"
   ]
  },
  {
   "cell_type": "code",
   "execution_count": 15,
   "id": "aaa68790",
   "metadata": {},
   "outputs": [
    {
     "data": {
      "text/plain": [
       "0"
      ]
     },
     "execution_count": 15,
     "metadata": {},
     "output_type": "execute_result"
    }
   ],
   "source": [
    "# checking for duplicated rows\n",
    "df_twitter.duplicated().sum()\n"
   ]
  },
  {
   "cell_type": "code",
   "execution_count": 17,
   "id": "7412cf56",
   "metadata": {},
   "outputs": [
    {
     "data": {
      "text/plain": [
       "0"
      ]
     },
     "execution_count": 17,
     "metadata": {},
     "output_type": "execute_result"
    }
   ],
   "source": [
    "df_twitter.duplicated().isnull().sum()"
   ]
  },
  {
   "cell_type": "markdown",
   "id": "9eadd914",
   "metadata": {},
   "source": [
    "> The df_twitter dataframe do not contain duplicate rows and no null values "
   ]
  },
  {
   "cell_type": "code",
   "execution_count": 40,
   "id": "b3ea9118",
   "metadata": {},
   "outputs": [],
   "source": [
    "url = ' https://d17h27t6h515a5.cloudfront.net/topher/2017/August/599fd2ad_image-predictions/image-predictions.tsv'\n",
    "\n",
    "response = requests.get(url)\n",
    "\n",
    "# Save csv to file\n",
    "    \n",
    "with open(\"rateDogs_images.tsv\", 'wb') as file:\n",
    "    file.write(response.content)\n",
    "    "
   ]
  },
  {
   "cell_type": "code",
   "execution_count": 134,
   "id": "901b64b0",
   "metadata": {},
   "outputs": [],
   "source": [
    "df_dog_image = pd.read_csv('rateDogs_images.tsv', sep  = '\\t')"
   ]
  },
  {
   "cell_type": "code",
   "execution_count": 44,
   "id": "55df38c8",
   "metadata": {},
   "outputs": [
    {
     "data": {
      "text/plain": [
       "(2075, 12)"
      ]
     },
     "execution_count": 44,
     "metadata": {},
     "output_type": "execute_result"
    }
   ],
   "source": [
    "df_dog_image.shape"
   ]
  },
  {
   "cell_type": "code",
   "execution_count": 8,
   "id": "9b9052fb",
   "metadata": {},
   "outputs": [
    {
     "data": {
      "text/html": [
       "<div>\n",
       "<style scoped>\n",
       "    .dataframe tbody tr th:only-of-type {\n",
       "        vertical-align: middle;\n",
       "    }\n",
       "\n",
       "    .dataframe tbody tr th {\n",
       "        vertical-align: top;\n",
       "    }\n",
       "\n",
       "    .dataframe thead th {\n",
       "        text-align: right;\n",
       "    }\n",
       "</style>\n",
       "<table border=\"1\" class=\"dataframe\">\n",
       "  <thead>\n",
       "    <tr style=\"text-align: right;\">\n",
       "      <th></th>\n",
       "      <th>tweet_id</th>\n",
       "      <th>img_num</th>\n",
       "      <th>p1_conf</th>\n",
       "      <th>p2_conf</th>\n",
       "      <th>p3_conf</th>\n",
       "    </tr>\n",
       "  </thead>\n",
       "  <tbody>\n",
       "    <tr>\n",
       "      <th>count</th>\n",
       "      <td>2.075000e+03</td>\n",
       "      <td>2075.000000</td>\n",
       "      <td>2075.000000</td>\n",
       "      <td>2.075000e+03</td>\n",
       "      <td>2.075000e+03</td>\n",
       "    </tr>\n",
       "    <tr>\n",
       "      <th>mean</th>\n",
       "      <td>7.384514e+17</td>\n",
       "      <td>1.203855</td>\n",
       "      <td>0.594548</td>\n",
       "      <td>1.345886e-01</td>\n",
       "      <td>6.032417e-02</td>\n",
       "    </tr>\n",
       "    <tr>\n",
       "      <th>std</th>\n",
       "      <td>6.785203e+16</td>\n",
       "      <td>0.561875</td>\n",
       "      <td>0.271174</td>\n",
       "      <td>1.006657e-01</td>\n",
       "      <td>5.090593e-02</td>\n",
       "    </tr>\n",
       "    <tr>\n",
       "      <th>min</th>\n",
       "      <td>6.660209e+17</td>\n",
       "      <td>1.000000</td>\n",
       "      <td>0.044333</td>\n",
       "      <td>1.011300e-08</td>\n",
       "      <td>1.740170e-10</td>\n",
       "    </tr>\n",
       "    <tr>\n",
       "      <th>25%</th>\n",
       "      <td>6.764835e+17</td>\n",
       "      <td>1.000000</td>\n",
       "      <td>0.364412</td>\n",
       "      <td>5.388625e-02</td>\n",
       "      <td>1.622240e-02</td>\n",
       "    </tr>\n",
       "    <tr>\n",
       "      <th>50%</th>\n",
       "      <td>7.119988e+17</td>\n",
       "      <td>1.000000</td>\n",
       "      <td>0.588230</td>\n",
       "      <td>1.181810e-01</td>\n",
       "      <td>4.944380e-02</td>\n",
       "    </tr>\n",
       "    <tr>\n",
       "      <th>75%</th>\n",
       "      <td>7.932034e+17</td>\n",
       "      <td>1.000000</td>\n",
       "      <td>0.843855</td>\n",
       "      <td>1.955655e-01</td>\n",
       "      <td>9.180755e-02</td>\n",
       "    </tr>\n",
       "    <tr>\n",
       "      <th>max</th>\n",
       "      <td>8.924206e+17</td>\n",
       "      <td>4.000000</td>\n",
       "      <td>1.000000</td>\n",
       "      <td>4.880140e-01</td>\n",
       "      <td>2.734190e-01</td>\n",
       "    </tr>\n",
       "  </tbody>\n",
       "</table>\n",
       "</div>"
      ],
      "text/plain": [
       "           tweet_id      img_num      p1_conf       p2_conf       p3_conf\n",
       "count  2.075000e+03  2075.000000  2075.000000  2.075000e+03  2.075000e+03\n",
       "mean   7.384514e+17     1.203855     0.594548  1.345886e-01  6.032417e-02\n",
       "std    6.785203e+16     0.561875     0.271174  1.006657e-01  5.090593e-02\n",
       "min    6.660209e+17     1.000000     0.044333  1.011300e-08  1.740170e-10\n",
       "25%    6.764835e+17     1.000000     0.364412  5.388625e-02  1.622240e-02\n",
       "50%    7.119988e+17     1.000000     0.588230  1.181810e-01  4.944380e-02\n",
       "75%    7.932034e+17     1.000000     0.843855  1.955655e-01  9.180755e-02\n",
       "max    8.924206e+17     4.000000     1.000000  4.880140e-01  2.734190e-01"
      ]
     },
     "execution_count": 8,
     "metadata": {},
     "output_type": "execute_result"
    }
   ],
   "source": [
    "df_dog_image.describe()"
   ]
  },
  {
   "cell_type": "code",
   "execution_count": 7,
   "id": "162f7960",
   "metadata": {},
   "outputs": [
    {
     "data": {
      "text/html": [
       "<div>\n",
       "<style scoped>\n",
       "    .dataframe tbody tr th:only-of-type {\n",
       "        vertical-align: middle;\n",
       "    }\n",
       "\n",
       "    .dataframe tbody tr th {\n",
       "        vertical-align: top;\n",
       "    }\n",
       "\n",
       "    .dataframe thead th {\n",
       "        text-align: right;\n",
       "    }\n",
       "</style>\n",
       "<table border=\"1\" class=\"dataframe\">\n",
       "  <thead>\n",
       "    <tr style=\"text-align: right;\">\n",
       "      <th></th>\n",
       "      <th>tweet_id</th>\n",
       "      <th>jpg_url</th>\n",
       "      <th>img_num</th>\n",
       "      <th>p1</th>\n",
       "      <th>p1_conf</th>\n",
       "      <th>p1_dog</th>\n",
       "      <th>p2</th>\n",
       "      <th>p2_conf</th>\n",
       "      <th>p2_dog</th>\n",
       "      <th>p3</th>\n",
       "      <th>p3_conf</th>\n",
       "      <th>p3_dog</th>\n",
       "    </tr>\n",
       "  </thead>\n",
       "  <tbody>\n",
       "    <tr>\n",
       "      <th>1365</th>\n",
       "      <td>761599872357261312</td>\n",
       "      <td>https://pbs.twimg.com/media/CpG_CrlWYAYyuP3.jpg</td>\n",
       "      <td>1</td>\n",
       "      <td>Gordon_setter</td>\n",
       "      <td>0.240427</td>\n",
       "      <td>True</td>\n",
       "      <td>Saluki</td>\n",
       "      <td>0.224269</td>\n",
       "      <td>True</td>\n",
       "      <td>Doberman</td>\n",
       "      <td>0.129730</td>\n",
       "      <td>True</td>\n",
       "    </tr>\n",
       "    <tr>\n",
       "      <th>681</th>\n",
       "      <td>683828599284170753</td>\n",
       "      <td>https://pbs.twimg.com/media/CX1ye7HUMAADDzh.jpg</td>\n",
       "      <td>1</td>\n",
       "      <td>malamute</td>\n",
       "      <td>0.577376</td>\n",
       "      <td>True</td>\n",
       "      <td>Siberian_husky</td>\n",
       "      <td>0.287131</td>\n",
       "      <td>True</td>\n",
       "      <td>Eskimo_dog</td>\n",
       "      <td>0.117563</td>\n",
       "      <td>True</td>\n",
       "    </tr>\n",
       "    <tr>\n",
       "      <th>971</th>\n",
       "      <td>706593038911545345</td>\n",
       "      <td>https://pbs.twimg.com/media/Cc5Snc7XIAAMidF.jpg</td>\n",
       "      <td>1</td>\n",
       "      <td>four-poster</td>\n",
       "      <td>0.696423</td>\n",
       "      <td>False</td>\n",
       "      <td>quilt</td>\n",
       "      <td>0.189312</td>\n",
       "      <td>False</td>\n",
       "      <td>pillow</td>\n",
       "      <td>0.029409</td>\n",
       "      <td>False</td>\n",
       "    </tr>\n",
       "    <tr>\n",
       "      <th>292</th>\n",
       "      <td>671186162933985280</td>\n",
       "      <td>https://pbs.twimg.com/media/CVCIQX7UkAEzqh_.jpg</td>\n",
       "      <td>1</td>\n",
       "      <td>Chihuahua</td>\n",
       "      <td>0.319106</td>\n",
       "      <td>True</td>\n",
       "      <td>whippet</td>\n",
       "      <td>0.169134</td>\n",
       "      <td>True</td>\n",
       "      <td>toy_terrier</td>\n",
       "      <td>0.125815</td>\n",
       "      <td>True</td>\n",
       "    </tr>\n",
       "    <tr>\n",
       "      <th>1078</th>\n",
       "      <td>717790033953034240</td>\n",
       "      <td>https://pbs.twimg.com/media/CfYaOeMWQAAGfyP.jpg</td>\n",
       "      <td>1</td>\n",
       "      <td>car_mirror</td>\n",
       "      <td>0.819106</td>\n",
       "      <td>False</td>\n",
       "      <td>minibus</td>\n",
       "      <td>0.107383</td>\n",
       "      <td>False</td>\n",
       "      <td>cab</td>\n",
       "      <td>0.034846</td>\n",
       "      <td>False</td>\n",
       "    </tr>\n",
       "  </tbody>\n",
       "</table>\n",
       "</div>"
      ],
      "text/plain": [
       "                tweet_id                                          jpg_url  \\\n",
       "1365  761599872357261312  https://pbs.twimg.com/media/CpG_CrlWYAYyuP3.jpg   \n",
       "681   683828599284170753  https://pbs.twimg.com/media/CX1ye7HUMAADDzh.jpg   \n",
       "971   706593038911545345  https://pbs.twimg.com/media/Cc5Snc7XIAAMidF.jpg   \n",
       "292   671186162933985280  https://pbs.twimg.com/media/CVCIQX7UkAEzqh_.jpg   \n",
       "1078  717790033953034240  https://pbs.twimg.com/media/CfYaOeMWQAAGfyP.jpg   \n",
       "\n",
       "      img_num             p1   p1_conf  p1_dog              p2   p2_conf  \\\n",
       "1365        1  Gordon_setter  0.240427    True          Saluki  0.224269   \n",
       "681         1       malamute  0.577376    True  Siberian_husky  0.287131   \n",
       "971         1    four-poster  0.696423   False           quilt  0.189312   \n",
       "292         1      Chihuahua  0.319106    True         whippet  0.169134   \n",
       "1078        1     car_mirror  0.819106   False         minibus  0.107383   \n",
       "\n",
       "      p2_dog           p3   p3_conf  p3_dog  \n",
       "1365    True     Doberman  0.129730    True  \n",
       "681     True   Eskimo_dog  0.117563    True  \n",
       "971    False       pillow  0.029409   False  \n",
       "292     True  toy_terrier  0.125815    True  \n",
       "1078   False          cab  0.034846   False  "
      ]
     },
     "execution_count": 7,
     "metadata": {},
     "output_type": "execute_result"
    }
   ],
   "source": [
    "df_dog_image.sample(5)"
   ]
  },
  {
   "cell_type": "code",
   "execution_count": 35,
   "id": "eb96396c",
   "metadata": {},
   "outputs": [
    {
     "name": "stdout",
     "output_type": "stream",
     "text": [
      "<class 'pandas.core.frame.DataFrame'>\n",
      "RangeIndex: 2075 entries, 0 to 2074\n",
      "Data columns (total 12 columns):\n",
      " #   Column    Non-Null Count  Dtype  \n",
      "---  ------    --------------  -----  \n",
      " 0   tweet_id  2075 non-null   int64  \n",
      " 1   jpg_url   2075 non-null   object \n",
      " 2   img_num   2075 non-null   int64  \n",
      " 3   p1        2075 non-null   object \n",
      " 4   p1_conf   2075 non-null   float64\n",
      " 5   p1_dog    2075 non-null   bool   \n",
      " 6   p2        2075 non-null   object \n",
      " 7   p2_conf   2075 non-null   float64\n",
      " 8   p2_dog    2075 non-null   bool   \n",
      " 9   p3        2075 non-null   object \n",
      " 10  p3_conf   2075 non-null   float64\n",
      " 11  p3_dog    2075 non-null   bool   \n",
      "dtypes: bool(3), float64(3), int64(2), object(4)\n",
      "memory usage: 152.1+ KB\n"
     ]
    }
   ],
   "source": [
    "df_dog_image.info()"
   ]
  },
  {
   "cell_type": "code",
   "execution_count": 58,
   "id": "6429f579",
   "metadata": {},
   "outputs": [
    {
     "data": {
      "text/plain": [
       "(2075, 12)"
      ]
     },
     "execution_count": 58,
     "metadata": {},
     "output_type": "execute_result"
    }
   ],
   "source": [
    "df_dog_image.shape"
   ]
  },
  {
   "cell_type": "code",
   "execution_count": 33,
   "id": "3b3063dd",
   "metadata": {
    "scrolled": true
   },
   "outputs": [
    {
     "data": {
      "text/plain": [
       "tweet_id    0\n",
       "jpg_url     0\n",
       "img_num     0\n",
       "p1          0\n",
       "p1_conf     0\n",
       "p1_dog      0\n",
       "p2          0\n",
       "p2_conf     0\n",
       "p2_dog      0\n",
       "p3          0\n",
       "p3_conf     0\n",
       "p3_dog      0\n",
       "dtype: int64"
      ]
     },
     "execution_count": 33,
     "metadata": {},
     "output_type": "execute_result"
    }
   ],
   "source": [
    "df_dog_image.isnull().sum()"
   ]
  },
  {
   "cell_type": "code",
   "execution_count": 34,
   "id": "885447ff",
   "metadata": {
    "scrolled": true
   },
   "outputs": [
    {
     "data": {
      "text/plain": [
       "0"
      ]
     },
     "execution_count": 34,
     "metadata": {},
     "output_type": "execute_result"
    }
   ],
   "source": [
    "df_dog_image.duplicated().sum()"
   ]
  },
  {
   "cell_type": "markdown",
   "id": "094544a8",
   "metadata": {},
   "source": [
    ">The df_dog_image table doesnt conatain any duplicate rows and null values"
   ]
  },
  {
   "cell_type": "markdown",
   "id": "0ca95841",
   "metadata": {},
   "source": [
    "# Clean"
   ]
  },
  {
   "cell_type": "markdown",
   "id": "7bbc3996",
   "metadata": {},
   "source": [
    "### Quality Issues\n",
    "##### `Df_Dog` table\n",
    "- The Timestamp isn't in the proper Format\n",
    "- The Denorminator ratings has several below and above 10 \n",
    "- The numerator ratings has several outliers \n",
    "- Retweet are duplicates of the original tweets (duplicate rows)\n",
    "- in_reply_to_status_id column missing several rows\n",
    "- in_reply_to_user_id column missing several rows\n",
    "- The source columns contains information on the device and tweet link\n",
    "\n"
   ]
  },
  {
   "cell_type": "markdown",
   "id": "bb6215c6",
   "metadata": {},
   "source": [
    "##### `df_Twitter` table\n",
    "- Date_created not in the proper format\n",
    "\n",
    "##### `df_merge` table\n",
    "- The date_created and Timestamp columns contain the same data\n",
    "- The retweets and reply columns contain no data\n",
    "\n",
    "\n",
    "### Tidniess\n",
    "##### `df_Dog` table\n",
    "- `Floofer`, `doggo`, `pupper`, and `puppo` columns all contain the same data\n",
    "- information about tweets are spread across three different dataframes\n",
    "\n",
    "\n"
   ]
  },
  {
   "cell_type": "code",
   "execution_count": 144,
   "id": "dbae73c7",
   "metadata": {},
   "outputs": [],
   "source": [
    "#creating Copy for each dataframe to keep the Original \n",
    "df_dog_copy = df_dog\n",
    "df_dog_image_copy = df_dog_image.copy()\n",
    "df_twitter_copy = df_twitter.copy()\n"
   ]
  },
  {
   "cell_type": "markdown",
   "id": "8da5e6c1",
   "metadata": {},
   "source": [
    "> For data consistency and consistency a copy of the original dataframe will be kept "
   ]
  },
  {
   "cell_type": "markdown",
   "id": "cce93dce",
   "metadata": {},
   "source": [
    "\n",
    "\n",
    "**Define**\n",
    "\n",
    "#issue 1\n",
    "- The Timestamp column isn't in the proper format from the `Df_dog table`"
   ]
  },
  {
   "cell_type": "markdown",
   "id": "6a4f6932",
   "metadata": {},
   "source": [
    "**Code**"
   ]
  },
  {
   "cell_type": "code",
   "execution_count": 136,
   "id": "a1f550ef",
   "metadata": {},
   "outputs": [],
   "source": [
    "df_dog_copy['timestamp'] = pd.to_datetime(df_dog_copy['timestamp']) "
   ]
  },
  {
   "cell_type": "markdown",
   "id": "8be143ad",
   "metadata": {},
   "source": [
    "**Test**"
   ]
  },
  {
   "cell_type": "code",
   "execution_count": 137,
   "id": "141b0a70",
   "metadata": {},
   "outputs": [
    {
     "name": "stdout",
     "output_type": "stream",
     "text": [
      "<class 'pandas.core.series.Series'>\n",
      "Int64Index: 2097 entries, 0 to 2355\n",
      "Series name: timestamp\n",
      "Non-Null Count  Dtype              \n",
      "--------------  -----              \n",
      "2097 non-null   datetime64[ns, UTC]\n",
      "dtypes: datetime64[ns, UTC](1)\n",
      "memory usage: 32.8 KB\n"
     ]
    }
   ],
   "source": [
    "df_dog_copy['timestamp'].info()"
   ]
  },
  {
   "cell_type": "markdown",
   "id": "d6a445bd",
   "metadata": {},
   "source": [
    "**# issue 2**\n",
    "\n",
    "**Define**\n",
    "\n",
    "- The doggo, floofer, pupper, puppo contains the same data in the `Df_Dog` table"
   ]
  },
  {
   "cell_type": "markdown",
   "id": "0a88e721",
   "metadata": {},
   "source": [
    "**Code**"
   ]
  },
  {
   "cell_type": "code",
   "execution_count": 145,
   "id": "1e0ae115",
   "metadata": {},
   "outputs": [],
   "source": [
    "dogs = [] # Creating a list to hold the values \n",
    "\n",
    "# \n",
    "for i in range(len(df_dog)):\n",
    "        \n",
    "    if (df_dog_copy.iloc[i].doggo == 'doggo'):\n",
    "         dogs.append(df_dog_copy.iloc[i].doggo)\n",
    "            \n",
    "    elif (df_dog_copy.iloc[i].floofer == 'floofer'):\n",
    "        dogs.append(df_dog_copy.iloc[i].floofer)\n",
    "        \n",
    "    elif (df_dog_copy.iloc[i].pupper == 'pupper'):\n",
    "        dogs.append(df_dog_copy.iloc[i].pupper)\n",
    "\n",
    "    elif (df_dog_copy.iloc[i].puppo == 'puppo'):\n",
    "         dogs.append(df_dog_copy.iloc[i].puppo)\n",
    "            \n",
    "    else: dogs.append('None')\n",
    "    \n",
    "        \n",
    "df_dog_copy['state'] = dogs      "
   ]
  },
  {
   "cell_type": "code",
   "execution_count": 146,
   "id": "a2eeec83",
   "metadata": {},
   "outputs": [],
   "source": [
    "df_dog_copy.drop(columns = ['doggo','floofer','pupper','puppo'], inplace = True)"
   ]
  },
  {
   "cell_type": "markdown",
   "id": "c74a5f49",
   "metadata": {},
   "source": [
    "**Test**"
   ]
  },
  {
   "cell_type": "code",
   "execution_count": 147,
   "id": "84659606",
   "metadata": {},
   "outputs": [
    {
     "name": "stdout",
     "output_type": "stream",
     "text": [
      "<class 'pandas.core.frame.DataFrame'>\n",
      "RangeIndex: 2356 entries, 0 to 2355\n",
      "Data columns (total 14 columns):\n",
      " #   Column                      Non-Null Count  Dtype  \n",
      "---  ------                      --------------  -----  \n",
      " 0   tweet_id                    2356 non-null   int64  \n",
      " 1   in_reply_to_status_id       78 non-null     float64\n",
      " 2   in_reply_to_user_id         78 non-null     float64\n",
      " 3   timestamp                   2356 non-null   object \n",
      " 4   source                      2356 non-null   object \n",
      " 5   text                        2356 non-null   object \n",
      " 6   retweeted_status_id         181 non-null    float64\n",
      " 7   retweeted_status_user_id    181 non-null    float64\n",
      " 8   retweeted_status_timestamp  181 non-null    object \n",
      " 9   expanded_urls               2297 non-null   object \n",
      " 10  rating_numerator            2356 non-null   int64  \n",
      " 11  rating_denominator          2356 non-null   int64  \n",
      " 12  name                        2356 non-null   object \n",
      " 13  state                       2356 non-null   object \n",
      "dtypes: float64(4), int64(3), object(7)\n",
      "memory usage: 257.8+ KB\n"
     ]
    }
   ],
   "source": [
    "df_dog_copy.info()"
   ]
  },
  {
   "cell_type": "markdown",
   "id": "e3a8638a",
   "metadata": {},
   "source": [
    "**#issue 3**\n",
    "\n",
    "**Define**\n",
    "\n",
    "- The Numerator has several outliers i.e not within the accepted range in the `Df_Dog` table"
   ]
  },
  {
   "cell_type": "markdown",
   "id": "b163315b",
   "metadata": {},
   "source": [
    "**code**"
   ]
  },
  {
   "cell_type": "code",
   "execution_count": 148,
   "id": "859ea2e9",
   "metadata": {},
   "outputs": [
    {
     "data": {
      "text/plain": [
       "count    2356.000000\n",
       "mean       13.126486\n",
       "std        45.876648\n",
       "min         0.000000\n",
       "25%        10.000000\n",
       "50%        11.000000\n",
       "75%        12.000000\n",
       "max      1776.000000\n",
       "Name: rating_numerator, dtype: float64"
      ]
     },
     "execution_count": 148,
     "metadata": {},
     "output_type": "execute_result"
    }
   ],
   "source": [
    "# numerator cannot go below 10\n",
    "df_dog_copy.rating_numerator.describe()"
   ]
  },
  {
   "cell_type": "code",
   "execution_count": 149,
   "id": "c11f6fd5",
   "metadata": {},
   "outputs": [],
   "source": [
    "_a = df_dog_copy.rating_numerator < 10 #filter for values below 10\n",
    "b = df_dog_copy[_a].index #getting the index of values below 10 \n"
   ]
  },
  {
   "cell_type": "code",
   "execution_count": 150,
   "id": "1ed9b2f2",
   "metadata": {},
   "outputs": [],
   "source": [
    "# Creating a list of rating_numerator values\n",
    "rating = list(df_dog_copy.rating_numerator)"
   ]
  },
  {
   "cell_type": "code",
   "execution_count": 151,
   "id": "415881ad",
   "metadata": {},
   "outputs": [],
   "source": [
    "for i in b:\n",
    "    rating[i] = 11\n",
    "\n",
    "df_dog_copy['rating_numerator'] = rating #Assigning the list to the DataFrame"
   ]
  },
  {
   "cell_type": "markdown",
   "id": "39ba9433",
   "metadata": {},
   "source": [
    "**Test**"
   ]
  },
  {
   "cell_type": "code",
   "execution_count": 152,
   "id": "65dd99ae",
   "metadata": {},
   "outputs": [
    {
     "data": {
      "text/plain": [
       "count    2356.000000\n",
       "mean       13.842954\n",
       "std        45.798506\n",
       "min        10.000000\n",
       "25%        11.000000\n",
       "50%        11.000000\n",
       "75%        12.000000\n",
       "max      1776.000000\n",
       "Name: rating_numerator, dtype: float64"
      ]
     },
     "execution_count": 152,
     "metadata": {},
     "output_type": "execute_result"
    }
   ],
   "source": [
    "df_dog_copy.rating_numerator.describe()"
   ]
  },
  {
   "cell_type": "markdown",
   "id": "702b6be1",
   "metadata": {},
   "source": [
    "**#issue 4**\n",
    "\n",
    "**Define**\n",
    "\n",
    "The source columns contains information on the phone and tweet link"
   ]
  },
  {
   "cell_type": "markdown",
   "id": "7f492ff2",
   "metadata": {},
   "source": [
    "**code**"
   ]
  },
  {
   "cell_type": "code",
   "execution_count": 153,
   "id": "dc17719a",
   "metadata": {},
   "outputs": [
    {
     "data": {
      "text/plain": [
       "'<a href=\"http://twitter.com/download/iphone\" rel=\"nofollow\">Twitter for iPhone</a>'"
      ]
     },
     "execution_count": 153,
     "metadata": {},
     "output_type": "execute_result"
    }
   ],
   "source": [
    "# the second row \n",
    "df_dog_copy.iloc[1].source"
   ]
  },
  {
   "cell_type": "code",
   "execution_count": 154,
   "id": "a3dca579",
   "metadata": {},
   "outputs": [],
   "source": [
    "a = df_dog_copy.source.str.split('\"')"
   ]
  },
  {
   "cell_type": "code",
   "execution_count": 155,
   "id": "8bdbb02f",
   "metadata": {},
   "outputs": [],
   "source": [
    "link = []\n",
    "device = []\n",
    "\n",
    "for i in range(len(a)):\n",
    "    k = a[i][1]\n",
    "    j = a[i][4][-10:-4]\n",
    "    link.append(k)\n",
    "    device.append(j)"
   ]
  },
  {
   "cell_type": "code",
   "execution_count": 156,
   "id": "b1fb423a",
   "metadata": {},
   "outputs": [],
   "source": [
    "df_dog_copy['Soure_link'] = link\n",
    "df_dog_copy['device'] = device"
   ]
  },
  {
   "cell_type": "code",
   "execution_count": 157,
   "id": "7f1c7e67",
   "metadata": {},
   "outputs": [],
   "source": [
    "df_dog_copy.drop(columns = ['source'], inplace = True)"
   ]
  },
  {
   "cell_type": "markdown",
   "id": "e430a602",
   "metadata": {},
   "source": [
    "**Test**"
   ]
  },
  {
   "cell_type": "code",
   "execution_count": 158,
   "id": "af24529f",
   "metadata": {},
   "outputs": [
    {
     "data": {
      "text/html": [
       "<div>\n",
       "<style scoped>\n",
       "    .dataframe tbody tr th:only-of-type {\n",
       "        vertical-align: middle;\n",
       "    }\n",
       "\n",
       "    .dataframe tbody tr th {\n",
       "        vertical-align: top;\n",
       "    }\n",
       "\n",
       "    .dataframe thead th {\n",
       "        text-align: right;\n",
       "    }\n",
       "</style>\n",
       "<table border=\"1\" class=\"dataframe\">\n",
       "  <thead>\n",
       "    <tr style=\"text-align: right;\">\n",
       "      <th></th>\n",
       "      <th>tweet_id</th>\n",
       "      <th>in_reply_to_status_id</th>\n",
       "      <th>in_reply_to_user_id</th>\n",
       "      <th>timestamp</th>\n",
       "      <th>text</th>\n",
       "      <th>retweeted_status_id</th>\n",
       "      <th>retweeted_status_user_id</th>\n",
       "      <th>retweeted_status_timestamp</th>\n",
       "      <th>expanded_urls</th>\n",
       "      <th>rating_numerator</th>\n",
       "      <th>rating_denominator</th>\n",
       "      <th>name</th>\n",
       "      <th>state</th>\n",
       "      <th>Soure_link</th>\n",
       "      <th>device</th>\n",
       "    </tr>\n",
       "  </thead>\n",
       "  <tbody>\n",
       "    <tr>\n",
       "      <th>1777</th>\n",
       "      <td>677918531514703872</td>\n",
       "      <td>NaN</td>\n",
       "      <td>NaN</td>\n",
       "      <td>2015-12-18 18:29:07 +0000</td>\n",
       "      <td>\"Everything looks pretty good in there. Make s...</td>\n",
       "      <td>NaN</td>\n",
       "      <td>NaN</td>\n",
       "      <td>NaN</td>\n",
       "      <td>https://twitter.com/dog_rates/status/677918531...</td>\n",
       "      <td>10</td>\n",
       "      <td>10</td>\n",
       "      <td>None</td>\n",
       "      <td>None</td>\n",
       "      <td>http://twitter.com/download/iphone</td>\n",
       "      <td>iPhone</td>\n",
       "    </tr>\n",
       "    <tr>\n",
       "      <th>1710</th>\n",
       "      <td>680583894916304897</td>\n",
       "      <td>NaN</td>\n",
       "      <td>NaN</td>\n",
       "      <td>2015-12-26 03:00:19 +0000</td>\n",
       "      <td>This is Penny. Her tennis ball slowly rolled d...</td>\n",
       "      <td>NaN</td>\n",
       "      <td>NaN</td>\n",
       "      <td>NaN</td>\n",
       "      <td>https://twitter.com/dog_rates/status/680583894...</td>\n",
       "      <td>11</td>\n",
       "      <td>10</td>\n",
       "      <td>Penny</td>\n",
       "      <td>None</td>\n",
       "      <td>http://twitter.com/download/iphone</td>\n",
       "      <td>iPhone</td>\n",
       "    </tr>\n",
       "    <tr>\n",
       "      <th>349</th>\n",
       "      <td>831650051525054464</td>\n",
       "      <td>NaN</td>\n",
       "      <td>NaN</td>\n",
       "      <td>2017-02-14 23:43:18 +0000</td>\n",
       "      <td>I usually only share these on Friday's, but th...</td>\n",
       "      <td>NaN</td>\n",
       "      <td>NaN</td>\n",
       "      <td>NaN</td>\n",
       "      <td>http://www.gofundme.com/bluethewhitehusky,http...</td>\n",
       "      <td>13</td>\n",
       "      <td>10</td>\n",
       "      <td>None</td>\n",
       "      <td>None</td>\n",
       "      <td>http://twitter.com/download/iphone</td>\n",
       "      <td>iPhone</td>\n",
       "    </tr>\n",
       "    <tr>\n",
       "      <th>2227</th>\n",
       "      <td>668268907921326080</td>\n",
       "      <td>NaN</td>\n",
       "      <td>NaN</td>\n",
       "      <td>2015-11-22 03:24:58 +0000</td>\n",
       "      <td>Here we have an Azerbaijani Buttermilk named G...</td>\n",
       "      <td>NaN</td>\n",
       "      <td>NaN</td>\n",
       "      <td>NaN</td>\n",
       "      <td>https://twitter.com/dog_rates/status/668268907...</td>\n",
       "      <td>10</td>\n",
       "      <td>10</td>\n",
       "      <td>None</td>\n",
       "      <td>None</td>\n",
       "      <td>http://twitter.com/download/iphone</td>\n",
       "      <td>iPhone</td>\n",
       "    </tr>\n",
       "    <tr>\n",
       "      <th>1840</th>\n",
       "      <td>675888385639251968</td>\n",
       "      <td>NaN</td>\n",
       "      <td>NaN</td>\n",
       "      <td>2015-12-13 04:02:03 +0000</td>\n",
       "      <td>Breathtaking scene. A father taking care of hi...</td>\n",
       "      <td>NaN</td>\n",
       "      <td>NaN</td>\n",
       "      <td>NaN</td>\n",
       "      <td>https://twitter.com/dog_rates/status/675888385...</td>\n",
       "      <td>10</td>\n",
       "      <td>10</td>\n",
       "      <td>None</td>\n",
       "      <td>None</td>\n",
       "      <td>http://twitter.com/download/iphone</td>\n",
       "      <td>iPhone</td>\n",
       "    </tr>\n",
       "  </tbody>\n",
       "</table>\n",
       "</div>"
      ],
      "text/plain": [
       "                tweet_id  in_reply_to_status_id  in_reply_to_user_id  \\\n",
       "1777  677918531514703872                    NaN                  NaN   \n",
       "1710  680583894916304897                    NaN                  NaN   \n",
       "349   831650051525054464                    NaN                  NaN   \n",
       "2227  668268907921326080                    NaN                  NaN   \n",
       "1840  675888385639251968                    NaN                  NaN   \n",
       "\n",
       "                      timestamp  \\\n",
       "1777  2015-12-18 18:29:07 +0000   \n",
       "1710  2015-12-26 03:00:19 +0000   \n",
       "349   2017-02-14 23:43:18 +0000   \n",
       "2227  2015-11-22 03:24:58 +0000   \n",
       "1840  2015-12-13 04:02:03 +0000   \n",
       "\n",
       "                                                   text  retweeted_status_id  \\\n",
       "1777  \"Everything looks pretty good in there. Make s...                  NaN   \n",
       "1710  This is Penny. Her tennis ball slowly rolled d...                  NaN   \n",
       "349   I usually only share these on Friday's, but th...                  NaN   \n",
       "2227  Here we have an Azerbaijani Buttermilk named G...                  NaN   \n",
       "1840  Breathtaking scene. A father taking care of hi...                  NaN   \n",
       "\n",
       "      retweeted_status_user_id retweeted_status_timestamp  \\\n",
       "1777                       NaN                        NaN   \n",
       "1710                       NaN                        NaN   \n",
       "349                        NaN                        NaN   \n",
       "2227                       NaN                        NaN   \n",
       "1840                       NaN                        NaN   \n",
       "\n",
       "                                          expanded_urls  rating_numerator  \\\n",
       "1777  https://twitter.com/dog_rates/status/677918531...                10   \n",
       "1710  https://twitter.com/dog_rates/status/680583894...                11   \n",
       "349   http://www.gofundme.com/bluethewhitehusky,http...                13   \n",
       "2227  https://twitter.com/dog_rates/status/668268907...                10   \n",
       "1840  https://twitter.com/dog_rates/status/675888385...                10   \n",
       "\n",
       "      rating_denominator   name state                          Soure_link  \\\n",
       "1777                  10   None  None  http://twitter.com/download/iphone   \n",
       "1710                  10  Penny  None  http://twitter.com/download/iphone   \n",
       "349                   10   None  None  http://twitter.com/download/iphone   \n",
       "2227                  10   None  None  http://twitter.com/download/iphone   \n",
       "1840                  10   None  None  http://twitter.com/download/iphone   \n",
       "\n",
       "      device  \n",
       "1777  iPhone  \n",
       "1710  iPhone  \n",
       "349   iPhone  \n",
       "2227  iPhone  \n",
       "1840  iPhone  "
      ]
     },
     "execution_count": 158,
     "metadata": {},
     "output_type": "execute_result"
    }
   ],
   "source": [
    "df_dog_copy.sample(5)"
   ]
  },
  {
   "cell_type": "markdown",
   "id": "9fd82a3f",
   "metadata": {},
   "source": [
    "**#Issue 5**\n",
    "\n",
    "**Define**"
   ]
  },
  {
   "cell_type": "markdown",
   "id": "bc0d1f0a",
   "metadata": {},
   "source": [
    "The rating_denominator having Values other than 10 in the `Df_Dog` table"
   ]
  },
  {
   "cell_type": "markdown",
   "id": "84053326",
   "metadata": {},
   "source": [
    "**Code**"
   ]
  },
  {
   "cell_type": "code",
   "execution_count": 159,
   "id": "8ba48642",
   "metadata": {},
   "outputs": [],
   "source": [
    "a = (df_dog_copy.rating_numerator != 10)  #filter for values below 10 and above\n",
    "b = df_dog_copy[a].index #getting the index of values below 10 \n"
   ]
  },
  {
   "cell_type": "code",
   "execution_count": 160,
   "id": "07a63cee",
   "metadata": {},
   "outputs": [],
   "source": [
    "_denominator = list(df_dog.rating_denominator)"
   ]
  },
  {
   "cell_type": "code",
   "execution_count": 161,
   "id": "859d06e3",
   "metadata": {},
   "outputs": [],
   "source": [
    "for i in b:\n",
    "    _denominator[i] = 10\n",
    "\n",
    "df_dog_copy['rating_denominator'] = _denominator #Assigning the list to the DataFrame"
   ]
  },
  {
   "cell_type": "markdown",
   "id": "67f7539c",
   "metadata": {},
   "source": [
    "**Test**"
   ]
  },
  {
   "cell_type": "code",
   "execution_count": 162,
   "id": "20610ff8",
   "metadata": {},
   "outputs": [
    {
     "data": {
      "text/plain": [
       "count    2356.0\n",
       "mean       10.0\n",
       "std         0.0\n",
       "min        10.0\n",
       "25%        10.0\n",
       "50%        10.0\n",
       "75%        10.0\n",
       "max        10.0\n",
       "Name: rating_denominator, dtype: float64"
      ]
     },
     "execution_count": 162,
     "metadata": {},
     "output_type": "execute_result"
    }
   ],
   "source": [
    "df_dog_copy.rating_denominator.describe()"
   ]
  },
  {
   "cell_type": "markdown",
   "id": "c87af0d8",
   "metadata": {},
   "source": [
    "#issue 6\n",
    "\n",
    "**Define**"
   ]
  },
  {
   "cell_type": "markdown",
   "id": "53b66883",
   "metadata": {},
   "source": [
    "- Retweet are duplicates of the original tweets (duplicate rows) in the `Df_Dog` table\n"
   ]
  },
  {
   "cell_type": "markdown",
   "id": "4eded4e9",
   "metadata": {},
   "source": [
    "**Code**"
   ]
  },
  {
   "cell_type": "code",
   "execution_count": 163,
   "id": "7d19781a",
   "metadata": {},
   "outputs": [],
   "source": [
    "#dropping retweets rows\n",
    "a = df_dog_copy.retweeted_status_id.isna()\n",
    "df_dog_copy[~a]\n",
    "df_dog_copy.drop(index = df_dog[~a].index, inplace =  True) "
   ]
  },
  {
   "cell_type": "markdown",
   "id": "97c66aa9",
   "metadata": {},
   "source": [
    "**Test**"
   ]
  },
  {
   "cell_type": "code",
   "execution_count": 164,
   "id": "2d222c4d",
   "metadata": {
    "scrolled": true
   },
   "outputs": [
    {
     "name": "stderr",
     "output_type": "stream",
     "text": [
      "C:\\Users\\hp\\AppData\\Local\\Temp\\ipykernel_12356\\2545446675.py:1: UserWarning: Boolean Series key will be reindexed to match DataFrame index.\n",
      "  df_dog_copy[~a]\n"
     ]
    },
    {
     "data": {
      "text/html": [
       "<div>\n",
       "<style scoped>\n",
       "    .dataframe tbody tr th:only-of-type {\n",
       "        vertical-align: middle;\n",
       "    }\n",
       "\n",
       "    .dataframe tbody tr th {\n",
       "        vertical-align: top;\n",
       "    }\n",
       "\n",
       "    .dataframe thead th {\n",
       "        text-align: right;\n",
       "    }\n",
       "</style>\n",
       "<table border=\"1\" class=\"dataframe\">\n",
       "  <thead>\n",
       "    <tr style=\"text-align: right;\">\n",
       "      <th></th>\n",
       "      <th>tweet_id</th>\n",
       "      <th>in_reply_to_status_id</th>\n",
       "      <th>in_reply_to_user_id</th>\n",
       "      <th>timestamp</th>\n",
       "      <th>text</th>\n",
       "      <th>retweeted_status_id</th>\n",
       "      <th>retweeted_status_user_id</th>\n",
       "      <th>retweeted_status_timestamp</th>\n",
       "      <th>expanded_urls</th>\n",
       "      <th>rating_numerator</th>\n",
       "      <th>rating_denominator</th>\n",
       "      <th>name</th>\n",
       "      <th>state</th>\n",
       "      <th>Soure_link</th>\n",
       "      <th>device</th>\n",
       "    </tr>\n",
       "  </thead>\n",
       "  <tbody>\n",
       "  </tbody>\n",
       "</table>\n",
       "</div>"
      ],
      "text/plain": [
       "Empty DataFrame\n",
       "Columns: [tweet_id, in_reply_to_status_id, in_reply_to_user_id, timestamp, text, retweeted_status_id, retweeted_status_user_id, retweeted_status_timestamp, expanded_urls, rating_numerator, rating_denominator, name, state, Soure_link, device]\n",
       "Index: []"
      ]
     },
     "execution_count": 164,
     "metadata": {},
     "output_type": "execute_result"
    }
   ],
   "source": [
    "df_dog_copy[~a]"
   ]
  },
  {
   "cell_type": "code",
   "execution_count": 165,
   "id": "98f41523",
   "metadata": {},
   "outputs": [
    {
     "name": "stdout",
     "output_type": "stream",
     "text": [
      "<class 'pandas.core.frame.DataFrame'>\n",
      "Int64Index: 2175 entries, 0 to 2355\n",
      "Data columns (total 15 columns):\n",
      " #   Column                      Non-Null Count  Dtype  \n",
      "---  ------                      --------------  -----  \n",
      " 0   tweet_id                    2175 non-null   int64  \n",
      " 1   in_reply_to_status_id       78 non-null     float64\n",
      " 2   in_reply_to_user_id         78 non-null     float64\n",
      " 3   timestamp                   2175 non-null   object \n",
      " 4   text                        2175 non-null   object \n",
      " 5   retweeted_status_id         0 non-null      float64\n",
      " 6   retweeted_status_user_id    0 non-null      float64\n",
      " 7   retweeted_status_timestamp  0 non-null      object \n",
      " 8   expanded_urls               2117 non-null   object \n",
      " 9   rating_numerator            2175 non-null   int64  \n",
      " 10  rating_denominator          2175 non-null   int64  \n",
      " 11  name                        2175 non-null   object \n",
      " 12  state                       2175 non-null   object \n",
      " 13  Soure_link                  2175 non-null   object \n",
      " 14  device                      2175 non-null   object \n",
      "dtypes: float64(4), int64(3), object(8)\n",
      "memory usage: 271.9+ KB\n"
     ]
    }
   ],
   "source": [
    "df_dog_copy.info()"
   ]
  },
  {
   "cell_type": "markdown",
   "id": "a7223ad2",
   "metadata": {},
   "source": [
    "#issue 7\n",
    "\n",
    "**Define**\n",
    "\n",
    "- Date_created isn't in the proper format i.e Datetime format in the `df_twitter` table\n"
   ]
  },
  {
   "cell_type": "markdown",
   "id": "80be9f35",
   "metadata": {},
   "source": [
    "**Code**"
   ]
  },
  {
   "cell_type": "code",
   "execution_count": 166,
   "id": "4a349e98",
   "metadata": {},
   "outputs": [],
   "source": [
    "df_twitter_copy.date_created = pd.to_datetime(df_twitter['date_created'])"
   ]
  },
  {
   "cell_type": "markdown",
   "id": "9e433cac",
   "metadata": {},
   "source": [
    " **Test**"
   ]
  },
  {
   "cell_type": "code",
   "execution_count": 167,
   "id": "d77410d0",
   "metadata": {},
   "outputs": [
    {
     "name": "stdout",
     "output_type": "stream",
     "text": [
      "<class 'pandas.core.series.Series'>\n",
      "RangeIndex: 2354 entries, 0 to 2353\n",
      "Series name: date_created\n",
      "Non-Null Count  Dtype              \n",
      "--------------  -----              \n",
      "2354 non-null   datetime64[ns, UTC]\n",
      "dtypes: datetime64[ns, UTC](1)\n",
      "memory usage: 18.5 KB\n"
     ]
    }
   ],
   "source": [
    "df_twitter_copy.date_created.info()"
   ]
  },
  {
   "cell_type": "markdown",
   "id": "5c80ae5e",
   "metadata": {},
   "source": [
    "#issue 9"
   ]
  },
  {
   "cell_type": "markdown",
   "id": "37351e85",
   "metadata": {},
   "source": [
    "**Define**"
   ]
  },
  {
   "cell_type": "markdown",
   "id": "d0174fd5",
   "metadata": {},
   "source": [
    "in_reply_to_status_id column missing several rows <br>\n",
    "in_reply_to_user_id column missing several rows"
   ]
  },
  {
   "cell_type": "code",
   "execution_count": 168,
   "id": "023fe880",
   "metadata": {},
   "outputs": [],
   "source": [
    "a = df_dog_copy.in_reply_to_status_id.isna()\n",
    "df_dog_copy[~a]\n",
    "df_dog_copy.drop(index = df_dog_copy[~a].index, inplace = True)"
   ]
  },
  {
   "cell_type": "markdown",
   "id": "f5880907",
   "metadata": {},
   "source": [
    "**Test**"
   ]
  },
  {
   "cell_type": "code",
   "execution_count": 108,
   "id": "0e4b9634",
   "metadata": {
    "scrolled": true
   },
   "outputs": [
    {
     "name": "stderr",
     "output_type": "stream",
     "text": [
      "C:\\Users\\hp\\AppData\\Local\\Temp\\ipykernel_12356\\2545446675.py:1: UserWarning: Boolean Series key will be reindexed to match DataFrame index.\n",
      "  df_dog_copy[~a]\n"
     ]
    },
    {
     "data": {
      "text/html": [
       "<div>\n",
       "<style scoped>\n",
       "    .dataframe tbody tr th:only-of-type {\n",
       "        vertical-align: middle;\n",
       "    }\n",
       "\n",
       "    .dataframe tbody tr th {\n",
       "        vertical-align: top;\n",
       "    }\n",
       "\n",
       "    .dataframe thead th {\n",
       "        text-align: right;\n",
       "    }\n",
       "</style>\n",
       "<table border=\"1\" class=\"dataframe\">\n",
       "  <thead>\n",
       "    <tr style=\"text-align: right;\">\n",
       "      <th></th>\n",
       "      <th>tweet_id</th>\n",
       "      <th>in_reply_to_status_id</th>\n",
       "      <th>in_reply_to_user_id</th>\n",
       "      <th>timestamp</th>\n",
       "      <th>source</th>\n",
       "      <th>text</th>\n",
       "      <th>retweeted_status_id</th>\n",
       "      <th>retweeted_status_user_id</th>\n",
       "      <th>retweeted_status_timestamp</th>\n",
       "      <th>expanded_urls</th>\n",
       "      <th>rating_numerator</th>\n",
       "      <th>rating_denominator</th>\n",
       "      <th>name</th>\n",
       "      <th>doggo</th>\n",
       "      <th>floofer</th>\n",
       "      <th>pupper</th>\n",
       "      <th>puppo</th>\n",
       "      <th>Soure_link</th>\n",
       "      <th>device</th>\n",
       "    </tr>\n",
       "  </thead>\n",
       "  <tbody>\n",
       "  </tbody>\n",
       "</table>\n",
       "</div>"
      ],
      "text/plain": [
       "Empty DataFrame\n",
       "Columns: [tweet_id, in_reply_to_status_id, in_reply_to_user_id, timestamp, source, text, retweeted_status_id, retweeted_status_user_id, retweeted_status_timestamp, expanded_urls, rating_numerator, rating_denominator, name, doggo, floofer, pupper, puppo, Soure_link, device]\n",
       "Index: []"
      ]
     },
     "execution_count": 108,
     "metadata": {},
     "output_type": "execute_result"
    }
   ],
   "source": [
    "df_dog_copy[~a]"
   ]
  },
  {
   "cell_type": "markdown",
   "id": "061e9b60",
   "metadata": {},
   "source": [
    "#issues 8\n",
    "\n",
    "**Define**\n",
    "\n",
    "Merge the `df_Twitter_copy`, `df_dog_copy Table` and `df_twitter_img_copy table`"
   ]
  },
  {
   "cell_type": "markdown",
   "id": "04aafc2e",
   "metadata": {},
   "source": [
    "**Code**"
   ]
  },
  {
   "cell_type": "code",
   "execution_count": 169,
   "id": "4e9ceeb4",
   "metadata": {},
   "outputs": [],
   "source": [
    "df_dog_merge = pd.merge(df_twitter_copy, df_dog_copy, on = \"tweet_id\", )"
   ]
  },
  {
   "cell_type": "code",
   "execution_count": 170,
   "id": "ed7baf15",
   "metadata": {},
   "outputs": [],
   "source": [
    "df_dog_merge = pd.merge(df_dog_merge, df_dog_image, on = \"tweet_id\", )"
   ]
  },
  {
   "cell_type": "markdown",
   "id": "b36eceb8",
   "metadata": {},
   "source": [
    "**Test**"
   ]
  },
  {
   "cell_type": "code",
   "execution_count": 171,
   "id": "d035af98",
   "metadata": {},
   "outputs": [
    {
     "data": {
      "text/plain": [
       "(1971, 29)"
      ]
     },
     "execution_count": 171,
     "metadata": {},
     "output_type": "execute_result"
    }
   ],
   "source": [
    "df_dog_merge.shape"
   ]
  },
  {
   "cell_type": "code",
   "execution_count": 172,
   "id": "999b5535",
   "metadata": {},
   "outputs": [
    {
     "name": "stdout",
     "output_type": "stream",
     "text": [
      "<class 'pandas.core.frame.DataFrame'>\n",
      "Int64Index: 1971 entries, 0 to 1970\n",
      "Data columns (total 29 columns):\n",
      " #   Column                      Non-Null Count  Dtype              \n",
      "---  ------                      --------------  -----              \n",
      " 0   tweet_id                    1971 non-null   int64              \n",
      " 1   date_created                1971 non-null   datetime64[ns, UTC]\n",
      " 2   favourite_count             1971 non-null   int64              \n",
      " 3   retweet_count               1971 non-null   int64              \n",
      " 4   in_reply_to_status_id       0 non-null      float64            \n",
      " 5   in_reply_to_user_id         0 non-null      float64            \n",
      " 6   timestamp                   1971 non-null   object             \n",
      " 7   text                        1971 non-null   object             \n",
      " 8   retweeted_status_id         0 non-null      float64            \n",
      " 9   retweeted_status_user_id    0 non-null      float64            \n",
      " 10  retweeted_status_timestamp  0 non-null      object             \n",
      " 11  expanded_urls               1971 non-null   object             \n",
      " 12  rating_numerator            1971 non-null   int64              \n",
      " 13  rating_denominator          1971 non-null   int64              \n",
      " 14  name                        1971 non-null   object             \n",
      " 15  state                       1971 non-null   object             \n",
      " 16  Soure_link                  1971 non-null   object             \n",
      " 17  device                      1971 non-null   object             \n",
      " 18  jpg_url                     1971 non-null   object             \n",
      " 19  img_num                     1971 non-null   int64              \n",
      " 20  p1                          1971 non-null   object             \n",
      " 21  p1_conf                     1971 non-null   float64            \n",
      " 22  p1_dog                      1971 non-null   bool               \n",
      " 23  p2                          1971 non-null   object             \n",
      " 24  p2_conf                     1971 non-null   float64            \n",
      " 25  p2_dog                      1971 non-null   bool               \n",
      " 26  p3                          1971 non-null   object             \n",
      " 27  p3_conf                     1971 non-null   float64            \n",
      " 28  p3_dog                      1971 non-null   bool               \n",
      "dtypes: bool(3), datetime64[ns, UTC](1), float64(7), int64(6), object(12)\n",
      "memory usage: 421.5+ KB\n"
     ]
    }
   ],
   "source": [
    "df_dog_merge.info()"
   ]
  },
  {
   "cell_type": "markdown",
   "id": "0ee27448",
   "metadata": {},
   "source": [
    "#issue 9"
   ]
  },
  {
   "cell_type": "markdown",
   "id": "d3a21bff",
   "metadata": {},
   "source": [
    "**Define**\n",
    "\n",
    "The df_dog_merge contains duplicate data the time column and the date_created column"
   ]
  },
  {
   "cell_type": "markdown",
   "id": "9569c98e",
   "metadata": {},
   "source": [
    "**Code**"
   ]
  },
  {
   "cell_type": "code",
   "execution_count": 187,
   "id": "8221bac3",
   "metadata": {},
   "outputs": [],
   "source": [
    "df_dog_merge.drop(columns = 'timestamp', inplace = True)"
   ]
  },
  {
   "cell_type": "markdown",
   "id": "88a99d6c",
   "metadata": {},
   "source": [
    "**Test**"
   ]
  },
  {
   "cell_type": "code",
   "execution_count": 189,
   "id": "2c5e40d9",
   "metadata": {},
   "outputs": [
    {
     "name": "stdout",
     "output_type": "stream",
     "text": [
      "<class 'pandas.core.frame.DataFrame'>\n",
      "Int64Index: 1971 entries, 0 to 1970\n",
      "Data columns (total 23 columns):\n",
      " #   Column              Non-Null Count  Dtype              \n",
      "---  ------              --------------  -----              \n",
      " 0   tweet_id            1971 non-null   int64              \n",
      " 1   date_created        1971 non-null   datetime64[ns, UTC]\n",
      " 2   favourite_count     1971 non-null   int64              \n",
      " 3   retweet_count       1971 non-null   int64              \n",
      " 4   text                1971 non-null   object             \n",
      " 5   expanded_urls       1971 non-null   object             \n",
      " 6   rating_numerator    1971 non-null   int64              \n",
      " 7   rating_denominator  1971 non-null   int64              \n",
      " 8   name                1971 non-null   object             \n",
      " 9   state               1971 non-null   object             \n",
      " 10  Soure_link          1971 non-null   object             \n",
      " 11  device              1971 non-null   object             \n",
      " 12  jpg_url             1971 non-null   object             \n",
      " 13  img_num             1971 non-null   int64              \n",
      " 14  p1                  1971 non-null   object             \n",
      " 15  p1_conf             1971 non-null   float64            \n",
      " 16  p1_dog              1971 non-null   bool               \n",
      " 17  p2                  1971 non-null   object             \n",
      " 18  p2_conf             1971 non-null   float64            \n",
      " 19  p2_dog              1971 non-null   bool               \n",
      " 20  p3                  1971 non-null   object             \n",
      " 21  p3_conf             1971 non-null   float64            \n",
      " 22  p3_dog              1971 non-null   bool               \n",
      "dtypes: bool(3), datetime64[ns, UTC](1), float64(3), int64(6), object(10)\n",
      "memory usage: 329.1+ KB\n"
     ]
    }
   ],
   "source": [
    "df_dog_merge.info()"
   ]
  },
  {
   "cell_type": "markdown",
   "id": "bf42656e",
   "metadata": {},
   "source": [
    "#issue 10\n"
   ]
  },
  {
   "cell_type": "markdown",
   "id": "a71ec7ef",
   "metadata": {},
   "source": [
    "**Define**\n",
    "\n",
    "The df_dog_merge contains several empty columns"
   ]
  },
  {
   "cell_type": "markdown",
   "id": "950b32d6",
   "metadata": {},
   "source": [
    "**code**"
   ]
  },
  {
   "cell_type": "code",
   "execution_count": 184,
   "id": "db1253c6",
   "metadata": {},
   "outputs": [],
   "source": [
    "df_dog_merge.drop(columns = ['retweeted_status_id', 'retweeted_status_user_id', 'retweeted_status_timestamp','in_reply_to_status_id' ,'in_reply_to_user_id' ], inplace = True)"
   ]
  },
  {
   "cell_type": "code",
   "execution_count": 190,
   "id": "d63cc4ef",
   "metadata": {},
   "outputs": [
    {
     "name": "stdout",
     "output_type": "stream",
     "text": [
      "<class 'pandas.core.frame.DataFrame'>\n",
      "Int64Index: 1971 entries, 0 to 1970\n",
      "Data columns (total 23 columns):\n",
      " #   Column              Non-Null Count  Dtype              \n",
      "---  ------              --------------  -----              \n",
      " 0   tweet_id            1971 non-null   int64              \n",
      " 1   date_created        1971 non-null   datetime64[ns, UTC]\n",
      " 2   favourite_count     1971 non-null   int64              \n",
      " 3   retweet_count       1971 non-null   int64              \n",
      " 4   text                1971 non-null   object             \n",
      " 5   expanded_urls       1971 non-null   object             \n",
      " 6   rating_numerator    1971 non-null   int64              \n",
      " 7   rating_denominator  1971 non-null   int64              \n",
      " 8   name                1971 non-null   object             \n",
      " 9   state               1971 non-null   object             \n",
      " 10  Soure_link          1971 non-null   object             \n",
      " 11  device              1971 non-null   object             \n",
      " 12  jpg_url             1971 non-null   object             \n",
      " 13  img_num             1971 non-null   int64              \n",
      " 14  p1                  1971 non-null   object             \n",
      " 15  p1_conf             1971 non-null   float64            \n",
      " 16  p1_dog              1971 non-null   bool               \n",
      " 17  p2                  1971 non-null   object             \n",
      " 18  p2_conf             1971 non-null   float64            \n",
      " 19  p2_dog              1971 non-null   bool               \n",
      " 20  p3                  1971 non-null   object             \n",
      " 21  p3_conf             1971 non-null   float64            \n",
      " 22  p3_dog              1971 non-null   bool               \n",
      "dtypes: bool(3), datetime64[ns, UTC](1), float64(3), int64(6), object(10)\n",
      "memory usage: 329.1+ KB\n"
     ]
    }
   ],
   "source": [
    "df_dog_merge.info()"
   ]
  },
  {
   "cell_type": "code",
   "execution_count": 191,
   "id": "af4fef08",
   "metadata": {},
   "outputs": [],
   "source": [
    "#exporting the merged table\n",
    "df_dog_merge.to_csv('Master_file.csv', index = False)"
   ]
  },
  {
   "cell_type": "code",
   "execution_count": 174,
   "id": "0e288003",
   "metadata": {},
   "outputs": [],
   "source": [
    "#creating a copy of the merged csv file\n",
    "df_dog_merge_copy = df_dog_merge.copy()"
   ]
  },
  {
   "cell_type": "markdown",
   "id": "b24141e1",
   "metadata": {},
   "source": [
    "# Analysis"
   ]
  },
  {
   "cell_type": "markdown",
   "id": "d7f4a0a3",
   "metadata": {},
   "source": [
    "Analyzing the P1 P2 and P3 confidence_levels "
   ]
  },
  {
   "cell_type": "code",
   "execution_count": 132,
   "id": "dd261681",
   "metadata": {},
   "outputs": [],
   "source": [
    "#creating new dataframe\n",
    "D = {  'p1_conf' : df_dog_image.p1_conf,\n",
    "     'p2_conf' : df_dog_image.p2_conf,\n",
    "     'p3_conf' : df_dog_image.p3_conf    \n",
    "}\n",
    "conf = pd.DataFrame(D)"
   ]
  },
  {
   "cell_type": "code",
   "execution_count": 74,
   "id": "f39ebca3",
   "metadata": {},
   "outputs": [
    {
     "data": {
      "text/html": [
       "<div>\n",
       "<style scoped>\n",
       "    .dataframe tbody tr th:only-of-type {\n",
       "        vertical-align: middle;\n",
       "    }\n",
       "\n",
       "    .dataframe tbody tr th {\n",
       "        vertical-align: top;\n",
       "    }\n",
       "\n",
       "    .dataframe thead th {\n",
       "        text-align: right;\n",
       "    }\n",
       "</style>\n",
       "<table border=\"1\" class=\"dataframe\">\n",
       "  <thead>\n",
       "    <tr style=\"text-align: right;\">\n",
       "      <th></th>\n",
       "      <th>p1_conf</th>\n",
       "      <th>p2_conf</th>\n",
       "      <th>p3_conf</th>\n",
       "    </tr>\n",
       "  </thead>\n",
       "  <tbody>\n",
       "    <tr>\n",
       "      <th>count</th>\n",
       "      <td>2075.000000</td>\n",
       "      <td>2.075000e+03</td>\n",
       "      <td>2.075000e+03</td>\n",
       "    </tr>\n",
       "    <tr>\n",
       "      <th>mean</th>\n",
       "      <td>0.594548</td>\n",
       "      <td>1.345886e-01</td>\n",
       "      <td>6.032417e-02</td>\n",
       "    </tr>\n",
       "    <tr>\n",
       "      <th>std</th>\n",
       "      <td>0.271174</td>\n",
       "      <td>1.006657e-01</td>\n",
       "      <td>5.090593e-02</td>\n",
       "    </tr>\n",
       "    <tr>\n",
       "      <th>min</th>\n",
       "      <td>0.044333</td>\n",
       "      <td>1.011300e-08</td>\n",
       "      <td>1.740170e-10</td>\n",
       "    </tr>\n",
       "    <tr>\n",
       "      <th>25%</th>\n",
       "      <td>0.364412</td>\n",
       "      <td>5.388625e-02</td>\n",
       "      <td>1.622240e-02</td>\n",
       "    </tr>\n",
       "    <tr>\n",
       "      <th>50%</th>\n",
       "      <td>0.588230</td>\n",
       "      <td>1.181810e-01</td>\n",
       "      <td>4.944380e-02</td>\n",
       "    </tr>\n",
       "    <tr>\n",
       "      <th>75%</th>\n",
       "      <td>0.843855</td>\n",
       "      <td>1.955655e-01</td>\n",
       "      <td>9.180755e-02</td>\n",
       "    </tr>\n",
       "    <tr>\n",
       "      <th>max</th>\n",
       "      <td>1.000000</td>\n",
       "      <td>4.880140e-01</td>\n",
       "      <td>2.734190e-01</td>\n",
       "    </tr>\n",
       "  </tbody>\n",
       "</table>\n",
       "</div>"
      ],
      "text/plain": [
       "           p1_conf       p2_conf       p3_conf\n",
       "count  2075.000000  2.075000e+03  2.075000e+03\n",
       "mean      0.594548  1.345886e-01  6.032417e-02\n",
       "std       0.271174  1.006657e-01  5.090593e-02\n",
       "min       0.044333  1.011300e-08  1.740170e-10\n",
       "25%       0.364412  5.388625e-02  1.622240e-02\n",
       "50%       0.588230  1.181810e-01  4.944380e-02\n",
       "75%       0.843855  1.955655e-01  9.180755e-02\n",
       "max       1.000000  4.880140e-01  2.734190e-01"
      ]
     },
     "execution_count": 74,
     "metadata": {},
     "output_type": "execute_result"
    }
   ],
   "source": [
    "conf.describe()"
   ]
  },
  {
   "cell_type": "markdown",
   "id": "69135741",
   "metadata": {},
   "source": [
    ">The first predictions has the highest confidence levels, while p2 and p3 has lower confidence levels. For this analysis  each prediction with a True tag and confidence level above 50% will be filtered out and the highest prediction selected from each row."
   ]
  },
  {
   "cell_type": "code",
   "execution_count": 93,
   "id": "f26760fd",
   "metadata": {},
   "outputs": [],
   "source": [
    "#filter for Tag of True and Confidence_level above 50%\n",
    "a = ((df_dog_merge.p1_dog == True) & (df_dog_merge.p1_conf > 0.50)) | ((df_dog_merge.p2_dog == True) & (df_dog_merge.p2_conf > 0.50)) | ((df_dog_merge.p3_dog == True) & (df_dog_merge.p3_conf > 0.50))\n"
   ]
  },
  {
   "cell_type": "code",
   "execution_count": 94,
   "id": "fca8717d",
   "metadata": {},
   "outputs": [],
   "source": [
    "#creating a copy of the filtered Dataframe\n",
    "df_dog1 = df_dog_merge[a]"
   ]
  },
  {
   "cell_type": "markdown",
   "id": "bfe71ece",
   "metadata": {},
   "source": [
    "> Because each imagie has 3 pridictions selecting the most probable prediction ie the prediction with the highest confidece level out of the series we are selecting prediction from each row i.e the prediction with the highest confidence level"
   ]
  },
  {
   "cell_type": "code",
   "execution_count": 95,
   "id": "032d09bd",
   "metadata": {},
   "outputs": [],
   "source": [
    "\n",
    "dog_list = [] #list for dogs\n",
    "dog_list_conf = [] #list for confidece levels\n",
    "retweet_count = [] #list for retweet count\n",
    "favourite_count =[] #list for favourite count\n",
    "for i in range(len(df_dog1)):\n",
    "    if (df_dog1.iloc[i].p1_conf > df_dog1.iloc[i].p2_conf) & (df_dog1.iloc[i].p1_conf > df_dog1.iloc[i].p3_conf):\n",
    "        dog_list.append(df_dog1.iloc[i].p1)\n",
    "        dog_list_conf.append(df_dog1.iloc[i].p1_conf)\n",
    "        retweet_count.append(df_dog1.iloc[i].retweet_count)\n",
    "        favourite_count.append(df_dog1.iloc[i].favourite_count)\n",
    "        \n",
    "        \n",
    "    elif (df_dog1.iloc[i].p2_conf > df_dog1.iloc[i].p2_conf) & (df_dog1.iloc[i].p1_conf > df_dog1.iloc[i].p3_conf):\n",
    "        dog_list.append(df_dog1.iloc[i].p2)\n",
    "        dog_list_conf.append(df_dog1.iloc[i].p2_conf)\n",
    "        retweet_count.append(df_dog1.iloc[i].retweet_count)\n",
    "        favourite_count.append(df_dog1.iloc[i].favourite_count)\n",
    "        \n",
    "    else:(dog_list.append(df_dog1.iloc[i].p3_conf) , dog_list_conf.append(df_dog1.iloc[i].p3),\n",
    "          retweet_count.append(df_dog1.iloc[i].retweet_count, favourite_count.append(df_dog1.iloc[i].favourite_count)))\n",
    "         "
   ]
  },
  {
   "cell_type": "markdown",
   "id": "6095783b",
   "metadata": {},
   "source": [
    "### Question 1\n",
    "> -  What Dog has the highest favorite counts\n",
    "> - What dogs is the most popular breed of dog and how confident was the prediction "
   ]
  },
  {
   "cell_type": "code",
   "execution_count": 96,
   "id": "c083e9ee",
   "metadata": {},
   "outputs": [],
   "source": [
    "#creating a new dataframe with the extracted data\n",
    "D = {\n",
    "    'dog_list' :dog_list, #list for dogs\n",
    "'dog_list_conf' : dog_list_conf, #list for confidece levels\n",
    "'retweet_count' : retweet_count, #list for retweet count\n",
    "'favourite_count' : favourite_count \n",
    "}\n",
    "\n",
    "df_prediction = pd.DataFrame(D)"
   ]
  },
  {
   "cell_type": "code",
   "execution_count": 97,
   "id": "23f7e4dc",
   "metadata": {},
   "outputs": [
    {
     "data": {
      "text/html": [
       "<div>\n",
       "<style scoped>\n",
       "    .dataframe tbody tr th:only-of-type {\n",
       "        vertical-align: middle;\n",
       "    }\n",
       "\n",
       "    .dataframe tbody tr th {\n",
       "        vertical-align: top;\n",
       "    }\n",
       "\n",
       "    .dataframe thead th {\n",
       "        text-align: right;\n",
       "    }\n",
       "</style>\n",
       "<table border=\"1\" class=\"dataframe\">\n",
       "  <thead>\n",
       "    <tr style=\"text-align: right;\">\n",
       "      <th></th>\n",
       "      <th>dog_list</th>\n",
       "      <th>dog_list_conf</th>\n",
       "      <th>retweet_count</th>\n",
       "      <th>favourite_count</th>\n",
       "    </tr>\n",
       "  </thead>\n",
       "  <tbody>\n",
       "    <tr>\n",
       "      <th>0</th>\n",
       "      <td>Chihuahua</td>\n",
       "      <td>0.716012</td>\n",
       "      <td>4328</td>\n",
       "      <td>25461</td>\n",
       "    </tr>\n",
       "    <tr>\n",
       "      <th>1</th>\n",
       "      <td>basset</td>\n",
       "      <td>0.555712</td>\n",
       "      <td>9774</td>\n",
       "      <td>41048</td>\n",
       "    </tr>\n",
       "    <tr>\n",
       "      <th>2</th>\n",
       "      <td>Pomeranian</td>\n",
       "      <td>0.566142</td>\n",
       "      <td>16716</td>\n",
       "      <td>56848</td>\n",
       "    </tr>\n",
       "  </tbody>\n",
       "</table>\n",
       "</div>"
      ],
      "text/plain": [
       "     dog_list  dog_list_conf  retweet_count  favourite_count\n",
       "0   Chihuahua       0.716012           4328            25461\n",
       "1      basset       0.555712           9774            41048\n",
       "2  Pomeranian       0.566142          16716            56848"
      ]
     },
     "execution_count": 97,
     "metadata": {},
     "output_type": "execute_result"
    }
   ],
   "source": [
    "df_prediction.head(3)"
   ]
  },
  {
   "cell_type": "code",
   "execution_count": 98,
   "id": "8b5d1bda",
   "metadata": {},
   "outputs": [],
   "source": [
    "#grouping dogs by breed\n",
    "mn = df_prediction.groupby('dog_list')"
   ]
  },
  {
   "cell_type": "code",
   "execution_count": 99,
   "id": "cb69a42d",
   "metadata": {},
   "outputs": [],
   "source": [
    "df_avg = mn.mean().sort_values(by = 'favourite_count',ascending = False )"
   ]
  },
  {
   "cell_type": "code",
   "execution_count": 100,
   "id": "f77e0a07",
   "metadata": {},
   "outputs": [],
   "source": [
    "df_avg.reset_index(inplace = True)\n",
    "df_avg = df_avg.rename(columns = {\n",
    "    'dog_list_conf': 'Avg_dog_conf', 'retweet_count' : 'Avg_retweet_count', 'favourite_count' :'Avg_favourite_count'})"
   ]
  },
  {
   "cell_type": "code",
   "execution_count": 101,
   "id": "26beb14b",
   "metadata": {},
   "outputs": [
    {
     "data": {
      "text/html": [
       "<div>\n",
       "<style scoped>\n",
       "    .dataframe tbody tr th:only-of-type {\n",
       "        vertical-align: middle;\n",
       "    }\n",
       "\n",
       "    .dataframe tbody tr th {\n",
       "        vertical-align: top;\n",
       "    }\n",
       "\n",
       "    .dataframe thead th {\n",
       "        text-align: right;\n",
       "    }\n",
       "</style>\n",
       "<table border=\"1\" class=\"dataframe\">\n",
       "  <thead>\n",
       "    <tr style=\"text-align: right;\">\n",
       "      <th></th>\n",
       "      <th>dog_list</th>\n",
       "      <th>Avg_favourite_count</th>\n",
       "    </tr>\n",
       "  </thead>\n",
       "  <tbody>\n",
       "    <tr>\n",
       "      <th>0</th>\n",
       "      <td>Saluki</td>\n",
       "      <td>30932.000000</td>\n",
       "    </tr>\n",
       "    <tr>\n",
       "      <th>1</th>\n",
       "      <td>Irish_water_spaniel</td>\n",
       "      <td>25225.000000</td>\n",
       "    </tr>\n",
       "    <tr>\n",
       "      <th>2</th>\n",
       "      <td>French_bulldog</td>\n",
       "      <td>18099.363636</td>\n",
       "    </tr>\n",
       "    <tr>\n",
       "      <th>3</th>\n",
       "      <td>Afghan_hound</td>\n",
       "      <td>17305.000000</td>\n",
       "    </tr>\n",
       "    <tr>\n",
       "      <th>4</th>\n",
       "      <td>Eskimo_dog</td>\n",
       "      <td>17148.000000</td>\n",
       "    </tr>\n",
       "  </tbody>\n",
       "</table>\n",
       "</div>"
      ],
      "text/plain": [
       "              dog_list  Avg_favourite_count\n",
       "0               Saluki         30932.000000\n",
       "1  Irish_water_spaniel         25225.000000\n",
       "2       French_bulldog         18099.363636\n",
       "3         Afghan_hound         17305.000000\n",
       "4           Eskimo_dog         17148.000000"
      ]
     },
     "execution_count": 101,
     "metadata": {},
     "output_type": "execute_result"
    },
    {
     "data": {
      "image/png": "[encoded data removed]",
      "text/plain": [
       "<Figure size 432x288 with 1 Axes>"
      ]
     },
     "metadata": {
      "needs_background": "light"
     },
     "output_type": "display_data"
    }
   ],
   "source": [
    "a = list(df_avg.dog_list.head(5))\n",
    "b=  list(df_avg.Avg_favourite_count.head(5))\n",
    "D = {\n",
    "    'dog_list' : a,\n",
    "    'Avg_favourite_count' : b\n",
    "}\n",
    "plt.bar(a,b);\n",
    "plt.title ('Favorite_dog Breed');\n",
    "plt.xlabel('Dog_Breeds');     # Label the 'x' axis\n",
    "plt.ylabel('Frequency');\n",
    "plt.xticks(rotation = 40);\n",
    "pd.DataFrame(D)\n"
   ]
  },
  {
   "cell_type": "markdown",
   "id": "9b214646",
   "metadata": {},
   "source": [
    "> - The Saluki dog breed is the most favorite image"
   ]
  },
  {
   "cell_type": "code",
   "execution_count": 103,
   "id": "86612c0a",
   "metadata": {},
   "outputs": [
    {
     "data": {
      "text/html": [
       "<div>\n",
       "<style scoped>\n",
       "    .dataframe tbody tr th:only-of-type {\n",
       "        vertical-align: middle;\n",
       "    }\n",
       "\n",
       "    .dataframe tbody tr th {\n",
       "        vertical-align: top;\n",
       "    }\n",
       "\n",
       "    .dataframe thead th {\n",
       "        text-align: right;\n",
       "    }\n",
       "</style>\n",
       "<table border=\"1\" class=\"dataframe\">\n",
       "  <thead>\n",
       "    <tr style=\"text-align: right;\">\n",
       "      <th></th>\n",
       "      <th>dog_list</th>\n",
       "    </tr>\n",
       "  </thead>\n",
       "  <tbody>\n",
       "    <tr>\n",
       "      <th>golden_retriever</th>\n",
       "      <td>126</td>\n",
       "    </tr>\n",
       "    <tr>\n",
       "      <th>Pembroke</th>\n",
       "      <td>70</td>\n",
       "    </tr>\n",
       "    <tr>\n",
       "      <th>Labrador_retriever</th>\n",
       "      <td>69</td>\n",
       "    </tr>\n",
       "    <tr>\n",
       "      <th>Chihuahua</th>\n",
       "      <td>50</td>\n",
       "    </tr>\n",
       "    <tr>\n",
       "      <th>pug</th>\n",
       "      <td>45</td>\n",
       "    </tr>\n",
       "  </tbody>\n",
       "</table>\n",
       "</div>"
      ],
      "text/plain": [
       "                    dog_list\n",
       "golden_retriever         126\n",
       "Pembroke                  70\n",
       "Labrador_retriever        69\n",
       "Chihuahua                 50\n",
       "pug                       45"
      ]
     },
     "execution_count": 103,
     "metadata": {},
     "output_type": "execute_result"
    },
    {
     "data": {
      "image/png": "[encoded data removed]",
      "text/plain": [
       "<Figure size 432x288 with 1 Axes>"
      ]
     },
     "metadata": {
      "needs_background": "light"
     },
     "output_type": "display_data"
    }
   ],
   "source": [
    "df_prediction.dog_list.value_counts().head(5).plot(\n",
    "    kind =  'bar', xlabel = 'Dog Breed', ylabel = 'Frequency', title = 'Popular Dog Predictions')\n",
    "\n",
    "plt.xticks(rotation = 40);\n",
    "\n",
    "pd.DataFrame(df_prediction.dog_list.value_counts().head(5))\n"
   ]
  },
  {
   "cell_type": "markdown",
   "id": "094594bc",
   "metadata": {},
   "source": [
    "> The Most popular dog breed predicted is the Golden_retriver"
   ]
  },
  {
   "cell_type": "code",
   "execution_count": 104,
   "id": "a039a5b0",
   "metadata": {},
   "outputs": [
    {
     "data": {
      "text/html": [
       "<div>\n",
       "<style scoped>\n",
       "    .dataframe tbody tr th:only-of-type {\n",
       "        vertical-align: middle;\n",
       "    }\n",
       "\n",
       "    .dataframe tbody tr th {\n",
       "        vertical-align: top;\n",
       "    }\n",
       "\n",
       "    .dataframe thead th {\n",
       "        text-align: right;\n",
       "    }\n",
       "</style>\n",
       "<table border=\"1\" class=\"dataframe\">\n",
       "  <thead>\n",
       "    <tr style=\"text-align: right;\">\n",
       "      <th></th>\n",
       "      <th>dog_list</th>\n",
       "      <th>Avg_dog_conf</th>\n",
       "      <th>Avg_retweet_count</th>\n",
       "      <th>Avg_favourite_count</th>\n",
       "    </tr>\n",
       "  </thead>\n",
       "  <tbody>\n",
       "    <tr>\n",
       "      <th>0</th>\n",
       "      <td>Saluki</td>\n",
       "      <td>0.535929</td>\n",
       "      <td>6508.000000</td>\n",
       "      <td>30932.000000</td>\n",
       "    </tr>\n",
       "    <tr>\n",
       "      <th>1</th>\n",
       "      <td>Irish_water_spaniel</td>\n",
       "      <td>0.567475</td>\n",
       "      <td>6039.000000</td>\n",
       "      <td>25225.000000</td>\n",
       "    </tr>\n",
       "    <tr>\n",
       "      <th>2</th>\n",
       "      <td>French_bulldog</td>\n",
       "      <td>0.847845</td>\n",
       "      <td>4933.954545</td>\n",
       "      <td>18099.363636</td>\n",
       "    </tr>\n",
       "  </tbody>\n",
       "</table>\n",
       "</div>"
      ],
      "text/plain": [
       "              dog_list  Avg_dog_conf  Avg_retweet_count  Avg_favourite_count\n",
       "0               Saluki      0.535929        6508.000000         30932.000000\n",
       "1  Irish_water_spaniel      0.567475        6039.000000         25225.000000\n",
       "2       French_bulldog      0.847845        4933.954545         18099.363636"
      ]
     },
     "execution_count": 104,
     "metadata": {},
     "output_type": "execute_result"
    }
   ],
   "source": [
    "df_avg.head(3)"
   ]
  },
  {
   "cell_type": "code",
   "execution_count": 105,
   "id": "e2f1b071",
   "metadata": {},
   "outputs": [
    {
     "name": "stdout",
     "output_type": "stream",
     "text": [
      "corelation = (-0.18349260409137053, 0.06763885686984149)\n"
     ]
    },
    {
     "data": {
      "text/html": [
       "<div>\n",
       "<style scoped>\n",
       "    .dataframe tbody tr th:only-of-type {\n",
       "        vertical-align: middle;\n",
       "    }\n",
       "\n",
       "    .dataframe tbody tr th {\n",
       "        vertical-align: top;\n",
       "    }\n",
       "\n",
       "    .dataframe thead th {\n",
       "        text-align: right;\n",
       "    }\n",
       "</style>\n",
       "<table border=\"1\" class=\"dataframe\">\n",
       "  <thead>\n",
       "    <tr style=\"text-align: right;\">\n",
       "      <th></th>\n",
       "      <th>dog_list</th>\n",
       "      <th>Avg_dog_conf</th>\n",
       "      <th>Avg_favourite_count</th>\n",
       "    </tr>\n",
       "  </thead>\n",
       "  <tbody>\n",
       "    <tr>\n",
       "      <th>0</th>\n",
       "      <td>Saluki</td>\n",
       "      <td>0.535929</td>\n",
       "      <td>30932.000000</td>\n",
       "    </tr>\n",
       "    <tr>\n",
       "      <th>1</th>\n",
       "      <td>Irish_water_spaniel</td>\n",
       "      <td>0.567475</td>\n",
       "      <td>25225.000000</td>\n",
       "    </tr>\n",
       "    <tr>\n",
       "      <th>2</th>\n",
       "      <td>French_bulldog</td>\n",
       "      <td>0.847845</td>\n",
       "      <td>18099.363636</td>\n",
       "    </tr>\n",
       "    <tr>\n",
       "      <th>3</th>\n",
       "      <td>Afghan_hound</td>\n",
       "      <td>0.903712</td>\n",
       "      <td>17305.000000</td>\n",
       "    </tr>\n",
       "    <tr>\n",
       "      <th>4</th>\n",
       "      <td>Eskimo_dog</td>\n",
       "      <td>0.576585</td>\n",
       "      <td>17148.000000</td>\n",
       "    </tr>\n",
       "    <tr>\n",
       "      <th>5</th>\n",
       "      <td>black-and-tan_coonhound</td>\n",
       "      <td>0.692000</td>\n",
       "      <td>17012.000000</td>\n",
       "    </tr>\n",
       "    <tr>\n",
       "      <th>6</th>\n",
       "      <td>Newfoundland</td>\n",
       "      <td>0.626441</td>\n",
       "      <td>16014.500000</td>\n",
       "    </tr>\n",
       "    <tr>\n",
       "      <th>7</th>\n",
       "      <td>Chesapeake_Bay_retriever</td>\n",
       "      <td>0.765541</td>\n",
       "      <td>15104.272727</td>\n",
       "    </tr>\n",
       "    <tr>\n",
       "      <th>8</th>\n",
       "      <td>Leonberg</td>\n",
       "      <td>0.681635</td>\n",
       "      <td>14934.333333</td>\n",
       "    </tr>\n",
       "    <tr>\n",
       "      <th>9</th>\n",
       "      <td>Great_Pyrenees</td>\n",
       "      <td>0.798408</td>\n",
       "      <td>14735.333333</td>\n",
       "    </tr>\n",
       "  </tbody>\n",
       "</table>\n",
       "</div>"
      ],
      "text/plain": [
       "                   dog_list  Avg_dog_conf  Avg_favourite_count\n",
       "0                    Saluki      0.535929         30932.000000\n",
       "1       Irish_water_spaniel      0.567475         25225.000000\n",
       "2            French_bulldog      0.847845         18099.363636\n",
       "3              Afghan_hound      0.903712         17305.000000\n",
       "4                Eskimo_dog      0.576585         17148.000000\n",
       "5   black-and-tan_coonhound      0.692000         17012.000000\n",
       "6              Newfoundland      0.626441         16014.500000\n",
       "7  Chesapeake_Bay_retriever      0.765541         15104.272727\n",
       "8                  Leonberg      0.681635         14934.333333\n",
       "9            Great_Pyrenees      0.798408         14735.333333"
      ]
     },
     "execution_count": 105,
     "metadata": {},
     "output_type": "execute_result"
    },
    {
     "data": {
      "image/png": "[encoded data removed]",
      "text/plain": [
       "<Figure size 360x360 with 1 Axes>"
      ]
     },
     "metadata": {
      "needs_background": "light"
     },
     "output_type": "display_data"
    }
   ],
   "source": [
    "#does a corolation exist between confidnce_level and favorite\n",
    "D = {'dog_list' : df_avg.dog_list,\n",
    "    'Avg_favourite_count': df_avg.Avg_favourite_count,\n",
    "    'Avg_dog_conf' : df_avg.Avg_dog_conf   \n",
    "}\n",
    "Data = pd.DataFrame(D, columns = ['dog_list','Avg_dog_conf','Avg_favourite_count'])\n",
    "sns.lmplot(x= 'Avg_dog_conf', y= 'Avg_favourite_count', data = df_avg )\n",
    "\n",
    "cor = stats.pearsonr(Data['Avg_dog_conf'], Data['Avg_favourite_count'])\n",
    "\n",
    "print('corelation =',cor)\n",
    "Data.head(10)"
   ]
  },
  {
   "cell_type": "markdown",
   "id": "edc2c20a",
   "metadata": {},
   "source": [
    "> The correlation between the confidence_levels and Average favorite_count is 0.06 indicating a very low relationship between both variables."
   ]
  },
  {
   "cell_type": "markdown",
   "id": "77472d92",
   "metadata": {},
   "source": [
    "# Conclusion\n",
    "\n",
    "\n",
    "> 1. The most popular dog breed is the Golden retriever, with over 100 predictions over 50% and an averaage prediction score of  80% \n",
    "\n",
    "> 2. The Dog breed with the most likes for an image tweet is the Saluki, with over 30932 favorites on twitter and with an  average prediction score of 54% \n",
    "\n",
    ">3. There is no relationship between image prediction confidence levels and average_favourite_count with a corelation coefficent of 0.06 "
   ]
  },
  {
   "cell_type": "markdown",
   "id": "0275e656",
   "metadata": {},
   "source": [
    "# Limitations\n",
    "\n",
    "> 1. This Analysis was based on a small sample of the data set, only prediction over 50% was used in the analysis, this isn't a      proper representative of the original dataset.\n",
    "\n",
    ">2. The average size of the sample isn't a proper representation of the entire dataset"
   ]
  }
 ],
 "metadata": {
  "hide_input": false,
  "kernelspec": {
   "display_name": "Python 3 (ipykernel)",
   "language": "python",
   "name": "python3"
  },
  "language_info": {
   "codemirror_mode": {
    "name": "ipython",
    "version": 3
   },
   "file_extension": ".py",
   "mimetype": "text/x-python",
   "name": "python",
   "nbconvert_exporter": "python",
   "pygments_lexer": "ipython3",
   "version": "3.9.7"
  },
  "toc": {
   "base_numbering": 1,
   "nav_menu": {},
   "number_sections": true,
   "sideBar": true,
   "skip_h1_title": false,
   "title_cell": "Table of Contents",
   "title_sidebar": "Contents",
   "toc_cell": false,
   "toc_position": {},
   "toc_section_display": true,
   "toc_window_display": false
  }
 },
 "nbformat": 4,
 "nbformat_minor": 5
}
